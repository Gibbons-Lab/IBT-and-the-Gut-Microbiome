{
 "cells": [
  {
   "cell_type": "markdown",
   "id": "89d38178-da9c-40da-8981-688c3c7ced19",
   "metadata": {},
   "source": [
    "# The goal of this notebook is only to generate the diversity metrics for the Arivale and the American Gut cohorts"
   ]
  },
  {
   "cell_type": "code",
   "execution_count": 1,
   "id": "56871386-8635-4390-b13c-bd28a6ca4c4e",
   "metadata": {},
   "outputs": [],
   "source": [
    "import pandas as pd\n",
    "import qiime2 as q2"
   ]
  },
  {
   "cell_type": "markdown",
   "id": "6af9fdac-bb30-4f3f-b9e0-acb3d73e3f02",
   "metadata": {},
   "source": [
    "## Generate diversity metrics for the Arivale cohort"
   ]
  },
  {
   "cell_type": "code",
   "execution_count": 2,
   "id": "974a49a5-e8ef-40da-8a05-65e282efdae3",
   "metadata": {},
   "outputs": [],
   "source": [
    "genpath='/proj/gibbons/kramos/github/IBT-and-the-Gut-Microbiome'"
   ]
  },
  {
   "cell_type": "code",
   "execution_count": 3,
   "id": "799320d7-d54d-4324-afae-986b751a78bd",
   "metadata": {},
   "outputs": [
    {
     "data": {
      "text/html": [
       "<div>\n",
       "<style scoped>\n",
       "    .dataframe tbody tr th:only-of-type {\n",
       "        vertical-align: middle;\n",
       "    }\n",
       "\n",
       "    .dataframe tbody tr th {\n",
       "        vertical-align: top;\n",
       "    }\n",
       "\n",
       "    .dataframe thead th {\n",
       "        text-align: right;\n",
       "    }\n",
       "</style>\n",
       "<table border=\"1\" class=\"dataframe\">\n",
       "  <thead>\n",
       "    <tr style=\"text-align: right;\">\n",
       "      <th></th>\n",
       "      <th>id</th>\n",
       "      <th>hash</th>\n",
       "      <th>count</th>\n",
       "    </tr>\n",
       "  </thead>\n",
       "  <tbody>\n",
       "    <tr>\n",
       "      <th>0</th>\n",
       "      <td>22001612560016|GFM-1079-001</td>\n",
       "      <td>c2d3fc09212e226b3a2c3398a1af9436</td>\n",
       "      <td>1285</td>\n",
       "    </tr>\n",
       "    <tr>\n",
       "      <th>1</th>\n",
       "      <td>22001612560023|GFM-1079-001</td>\n",
       "      <td>c2d3fc09212e226b3a2c3398a1af9436</td>\n",
       "      <td>2431</td>\n",
       "    </tr>\n",
       "    <tr>\n",
       "      <th>2</th>\n",
       "      <td>22001612560062|GFM-1079-001</td>\n",
       "      <td>c2d3fc09212e226b3a2c3398a1af9436</td>\n",
       "      <td>4908</td>\n",
       "    </tr>\n",
       "    <tr>\n",
       "      <th>3</th>\n",
       "      <td>22001612560065|GFM-1079-001</td>\n",
       "      <td>c2d3fc09212e226b3a2c3398a1af9436</td>\n",
       "      <td>3944</td>\n",
       "    </tr>\n",
       "    <tr>\n",
       "      <th>4</th>\n",
       "      <td>22001612560067|GFM-1079-001</td>\n",
       "      <td>c2d3fc09212e226b3a2c3398a1af9436</td>\n",
       "      <td>5990</td>\n",
       "    </tr>\n",
       "  </tbody>\n",
       "</table>\n",
       "</div>"
      ],
      "text/plain": [
       "                            id                              hash  count\n",
       "0  22001612560016|GFM-1079-001  c2d3fc09212e226b3a2c3398a1af9436   1285\n",
       "1  22001612560023|GFM-1079-001  c2d3fc09212e226b3a2c3398a1af9436   2431\n",
       "2  22001612560062|GFM-1079-001  c2d3fc09212e226b3a2c3398a1af9436   4908\n",
       "3  22001612560065|GFM-1079-001  c2d3fc09212e226b3a2c3398a1af9436   3944\n",
       "4  22001612560067|GFM-1079-001  c2d3fc09212e226b3a2c3398a1af9436   5990"
      ]
     },
     "execution_count": 3,
     "metadata": {},
     "output_type": "execute_result"
    }
   ],
   "source": [
    "asvs = pd.read_csv(\"/proj/arivale/microbiome/16S_processed/asvs.csv\")\n",
    "asvs.head()"
   ]
  },
  {
   "cell_type": "code",
   "execution_count": 4,
   "id": "e93ad743-bbd8-4f30-844e-ab19ca86713c",
   "metadata": {},
   "outputs": [
    {
     "data": {
      "text/html": [
       "<div>\n",
       "<style scoped>\n",
       "    .dataframe tbody tr th:only-of-type {\n",
       "        vertical-align: middle;\n",
       "    }\n",
       "\n",
       "    .dataframe tbody tr th {\n",
       "        vertical-align: top;\n",
       "    }\n",
       "\n",
       "    .dataframe thead th {\n",
       "        text-align: right;\n",
       "    }\n",
       "</style>\n",
       "<table border=\"1\" class=\"dataframe\">\n",
       "  <thead>\n",
       "    <tr style=\"text-align: right;\">\n",
       "      <th>hash</th>\n",
       "      <th>00002d83dec0ceabeb1fe4135a2b6ab8</th>\n",
       "      <th>00018b0d514b0f1a47ce15eaa4d247f6</th>\n",
       "      <th>0001eda93a1e6802360bf98488c24869</th>\n",
       "      <th>0002120f916215b077ef0a08d66d2716</th>\n",
       "      <th>00030c11306e21d37b6746c3bde4bf04</th>\n",
       "      <th>00031aa1f9af3c685c27f1f9cb698264</th>\n",
       "      <th>000496f456d876909e556b995d280025</th>\n",
       "      <th>0004b081705699c3c278c0b6d630f14a</th>\n",
       "      <th>00051aaf814992134ca85d5cbcc588c8</th>\n",
       "      <th>0005993ad01aab8760c90b7f99cc6d0e</th>\n",
       "      <th>...</th>\n",
       "      <th>fff8d0f53285381dcd098a6ad052cb75</th>\n",
       "      <th>fff8e7e1b7930fe1667b0fee51cef795</th>\n",
       "      <th>fff9867a3f784827a9c99a2765d05c60</th>\n",
       "      <th>fff9934d86277762cbaa6418cd456f6d</th>\n",
       "      <th>fffa3392a7ab7ae875772f1f004fe140</th>\n",
       "      <th>fffa9d186997056849b930a68dd8b121</th>\n",
       "      <th>fffbae09f8a62b3498565b4fe8838846</th>\n",
       "      <th>fffc51faa053251845837ffc43231b30</th>\n",
       "      <th>fffe4057d41c6ef3b16a370498eb01a9</th>\n",
       "      <th>ffff9eed68c63035d7f56c61d7603794</th>\n",
       "    </tr>\n",
       "    <tr>\n",
       "      <th>id</th>\n",
       "      <th></th>\n",
       "      <th></th>\n",
       "      <th></th>\n",
       "      <th></th>\n",
       "      <th></th>\n",
       "      <th></th>\n",
       "      <th></th>\n",
       "      <th></th>\n",
       "      <th></th>\n",
       "      <th></th>\n",
       "      <th></th>\n",
       "      <th></th>\n",
       "      <th></th>\n",
       "      <th></th>\n",
       "      <th></th>\n",
       "      <th></th>\n",
       "      <th></th>\n",
       "      <th></th>\n",
       "      <th></th>\n",
       "      <th></th>\n",
       "      <th></th>\n",
       "    </tr>\n",
       "  </thead>\n",
       "  <tbody>\n",
       "    <tr>\n",
       "      <th>22001612560009|GFM-1079-007</th>\n",
       "      <td>0</td>\n",
       "      <td>0</td>\n",
       "      <td>0</td>\n",
       "      <td>0</td>\n",
       "      <td>0</td>\n",
       "      <td>0</td>\n",
       "      <td>0</td>\n",
       "      <td>0</td>\n",
       "      <td>0</td>\n",
       "      <td>0</td>\n",
       "      <td>...</td>\n",
       "      <td>0</td>\n",
       "      <td>0</td>\n",
       "      <td>0</td>\n",
       "      <td>0</td>\n",
       "      <td>0</td>\n",
       "      <td>0</td>\n",
       "      <td>0</td>\n",
       "      <td>0</td>\n",
       "      <td>0</td>\n",
       "      <td>0</td>\n",
       "    </tr>\n",
       "    <tr>\n",
       "      <th>22001612560012|GFM-1079-011</th>\n",
       "      <td>0</td>\n",
       "      <td>0</td>\n",
       "      <td>0</td>\n",
       "      <td>0</td>\n",
       "      <td>0</td>\n",
       "      <td>0</td>\n",
       "      <td>0</td>\n",
       "      <td>0</td>\n",
       "      <td>0</td>\n",
       "      <td>0</td>\n",
       "      <td>...</td>\n",
       "      <td>0</td>\n",
       "      <td>0</td>\n",
       "      <td>0</td>\n",
       "      <td>0</td>\n",
       "      <td>0</td>\n",
       "      <td>0</td>\n",
       "      <td>0</td>\n",
       "      <td>0</td>\n",
       "      <td>0</td>\n",
       "      <td>0</td>\n",
       "    </tr>\n",
       "    <tr>\n",
       "      <th>22001612560014|GFM-1079-016</th>\n",
       "      <td>0</td>\n",
       "      <td>0</td>\n",
       "      <td>0</td>\n",
       "      <td>0</td>\n",
       "      <td>0</td>\n",
       "      <td>0</td>\n",
       "      <td>0</td>\n",
       "      <td>0</td>\n",
       "      <td>0</td>\n",
       "      <td>0</td>\n",
       "      <td>...</td>\n",
       "      <td>0</td>\n",
       "      <td>0</td>\n",
       "      <td>0</td>\n",
       "      <td>0</td>\n",
       "      <td>0</td>\n",
       "      <td>0</td>\n",
       "      <td>0</td>\n",
       "      <td>0</td>\n",
       "      <td>0</td>\n",
       "      <td>0</td>\n",
       "    </tr>\n",
       "    <tr>\n",
       "      <th>22001612560015|GFM-1079-015</th>\n",
       "      <td>0</td>\n",
       "      <td>0</td>\n",
       "      <td>0</td>\n",
       "      <td>0</td>\n",
       "      <td>0</td>\n",
       "      <td>0</td>\n",
       "      <td>0</td>\n",
       "      <td>0</td>\n",
       "      <td>0</td>\n",
       "      <td>0</td>\n",
       "      <td>...</td>\n",
       "      <td>0</td>\n",
       "      <td>0</td>\n",
       "      <td>0</td>\n",
       "      <td>0</td>\n",
       "      <td>0</td>\n",
       "      <td>0</td>\n",
       "      <td>0</td>\n",
       "      <td>0</td>\n",
       "      <td>0</td>\n",
       "      <td>0</td>\n",
       "    </tr>\n",
       "    <tr>\n",
       "      <th>22001612560016|GFM-1079-001</th>\n",
       "      <td>0</td>\n",
       "      <td>0</td>\n",
       "      <td>0</td>\n",
       "      <td>0</td>\n",
       "      <td>0</td>\n",
       "      <td>0</td>\n",
       "      <td>0</td>\n",
       "      <td>0</td>\n",
       "      <td>0</td>\n",
       "      <td>0</td>\n",
       "      <td>...</td>\n",
       "      <td>0</td>\n",
       "      <td>0</td>\n",
       "      <td>0</td>\n",
       "      <td>0</td>\n",
       "      <td>0</td>\n",
       "      <td>0</td>\n",
       "      <td>0</td>\n",
       "      <td>0</td>\n",
       "      <td>0</td>\n",
       "      <td>0</td>\n",
       "    </tr>\n",
       "  </tbody>\n",
       "</table>\n",
       "<p>5 rows × 89022 columns</p>\n",
       "</div>"
      ],
      "text/plain": [
       "hash                         00002d83dec0ceabeb1fe4135a2b6ab8  \\\n",
       "id                                                              \n",
       "22001612560009|GFM-1079-007                                 0   \n",
       "22001612560012|GFM-1079-011                                 0   \n",
       "22001612560014|GFM-1079-016                                 0   \n",
       "22001612560015|GFM-1079-015                                 0   \n",
       "22001612560016|GFM-1079-001                                 0   \n",
       "\n",
       "hash                         00018b0d514b0f1a47ce15eaa4d247f6  \\\n",
       "id                                                              \n",
       "22001612560009|GFM-1079-007                                 0   \n",
       "22001612560012|GFM-1079-011                                 0   \n",
       "22001612560014|GFM-1079-016                                 0   \n",
       "22001612560015|GFM-1079-015                                 0   \n",
       "22001612560016|GFM-1079-001                                 0   \n",
       "\n",
       "hash                         0001eda93a1e6802360bf98488c24869  \\\n",
       "id                                                              \n",
       "22001612560009|GFM-1079-007                                 0   \n",
       "22001612560012|GFM-1079-011                                 0   \n",
       "22001612560014|GFM-1079-016                                 0   \n",
       "22001612560015|GFM-1079-015                                 0   \n",
       "22001612560016|GFM-1079-001                                 0   \n",
       "\n",
       "hash                         0002120f916215b077ef0a08d66d2716  \\\n",
       "id                                                              \n",
       "22001612560009|GFM-1079-007                                 0   \n",
       "22001612560012|GFM-1079-011                                 0   \n",
       "22001612560014|GFM-1079-016                                 0   \n",
       "22001612560015|GFM-1079-015                                 0   \n",
       "22001612560016|GFM-1079-001                                 0   \n",
       "\n",
       "hash                         00030c11306e21d37b6746c3bde4bf04  \\\n",
       "id                                                              \n",
       "22001612560009|GFM-1079-007                                 0   \n",
       "22001612560012|GFM-1079-011                                 0   \n",
       "22001612560014|GFM-1079-016                                 0   \n",
       "22001612560015|GFM-1079-015                                 0   \n",
       "22001612560016|GFM-1079-001                                 0   \n",
       "\n",
       "hash                         00031aa1f9af3c685c27f1f9cb698264  \\\n",
       "id                                                              \n",
       "22001612560009|GFM-1079-007                                 0   \n",
       "22001612560012|GFM-1079-011                                 0   \n",
       "22001612560014|GFM-1079-016                                 0   \n",
       "22001612560015|GFM-1079-015                                 0   \n",
       "22001612560016|GFM-1079-001                                 0   \n",
       "\n",
       "hash                         000496f456d876909e556b995d280025  \\\n",
       "id                                                              \n",
       "22001612560009|GFM-1079-007                                 0   \n",
       "22001612560012|GFM-1079-011                                 0   \n",
       "22001612560014|GFM-1079-016                                 0   \n",
       "22001612560015|GFM-1079-015                                 0   \n",
       "22001612560016|GFM-1079-001                                 0   \n",
       "\n",
       "hash                         0004b081705699c3c278c0b6d630f14a  \\\n",
       "id                                                              \n",
       "22001612560009|GFM-1079-007                                 0   \n",
       "22001612560012|GFM-1079-011                                 0   \n",
       "22001612560014|GFM-1079-016                                 0   \n",
       "22001612560015|GFM-1079-015                                 0   \n",
       "22001612560016|GFM-1079-001                                 0   \n",
       "\n",
       "hash                         00051aaf814992134ca85d5cbcc588c8  \\\n",
       "id                                                              \n",
       "22001612560009|GFM-1079-007                                 0   \n",
       "22001612560012|GFM-1079-011                                 0   \n",
       "22001612560014|GFM-1079-016                                 0   \n",
       "22001612560015|GFM-1079-015                                 0   \n",
       "22001612560016|GFM-1079-001                                 0   \n",
       "\n",
       "hash                         0005993ad01aab8760c90b7f99cc6d0e  ...  \\\n",
       "id                                                             ...   \n",
       "22001612560009|GFM-1079-007                                 0  ...   \n",
       "22001612560012|GFM-1079-011                                 0  ...   \n",
       "22001612560014|GFM-1079-016                                 0  ...   \n",
       "22001612560015|GFM-1079-015                                 0  ...   \n",
       "22001612560016|GFM-1079-001                                 0  ...   \n",
       "\n",
       "hash                         fff8d0f53285381dcd098a6ad052cb75  \\\n",
       "id                                                              \n",
       "22001612560009|GFM-1079-007                                 0   \n",
       "22001612560012|GFM-1079-011                                 0   \n",
       "22001612560014|GFM-1079-016                                 0   \n",
       "22001612560015|GFM-1079-015                                 0   \n",
       "22001612560016|GFM-1079-001                                 0   \n",
       "\n",
       "hash                         fff8e7e1b7930fe1667b0fee51cef795  \\\n",
       "id                                                              \n",
       "22001612560009|GFM-1079-007                                 0   \n",
       "22001612560012|GFM-1079-011                                 0   \n",
       "22001612560014|GFM-1079-016                                 0   \n",
       "22001612560015|GFM-1079-015                                 0   \n",
       "22001612560016|GFM-1079-001                                 0   \n",
       "\n",
       "hash                         fff9867a3f784827a9c99a2765d05c60  \\\n",
       "id                                                              \n",
       "22001612560009|GFM-1079-007                                 0   \n",
       "22001612560012|GFM-1079-011                                 0   \n",
       "22001612560014|GFM-1079-016                                 0   \n",
       "22001612560015|GFM-1079-015                                 0   \n",
       "22001612560016|GFM-1079-001                                 0   \n",
       "\n",
       "hash                         fff9934d86277762cbaa6418cd456f6d  \\\n",
       "id                                                              \n",
       "22001612560009|GFM-1079-007                                 0   \n",
       "22001612560012|GFM-1079-011                                 0   \n",
       "22001612560014|GFM-1079-016                                 0   \n",
       "22001612560015|GFM-1079-015                                 0   \n",
       "22001612560016|GFM-1079-001                                 0   \n",
       "\n",
       "hash                         fffa3392a7ab7ae875772f1f004fe140  \\\n",
       "id                                                              \n",
       "22001612560009|GFM-1079-007                                 0   \n",
       "22001612560012|GFM-1079-011                                 0   \n",
       "22001612560014|GFM-1079-016                                 0   \n",
       "22001612560015|GFM-1079-015                                 0   \n",
       "22001612560016|GFM-1079-001                                 0   \n",
       "\n",
       "hash                         fffa9d186997056849b930a68dd8b121  \\\n",
       "id                                                              \n",
       "22001612560009|GFM-1079-007                                 0   \n",
       "22001612560012|GFM-1079-011                                 0   \n",
       "22001612560014|GFM-1079-016                                 0   \n",
       "22001612560015|GFM-1079-015                                 0   \n",
       "22001612560016|GFM-1079-001                                 0   \n",
       "\n",
       "hash                         fffbae09f8a62b3498565b4fe8838846  \\\n",
       "id                                                              \n",
       "22001612560009|GFM-1079-007                                 0   \n",
       "22001612560012|GFM-1079-011                                 0   \n",
       "22001612560014|GFM-1079-016                                 0   \n",
       "22001612560015|GFM-1079-015                                 0   \n",
       "22001612560016|GFM-1079-001                                 0   \n",
       "\n",
       "hash                         fffc51faa053251845837ffc43231b30  \\\n",
       "id                                                              \n",
       "22001612560009|GFM-1079-007                                 0   \n",
       "22001612560012|GFM-1079-011                                 0   \n",
       "22001612560014|GFM-1079-016                                 0   \n",
       "22001612560015|GFM-1079-015                                 0   \n",
       "22001612560016|GFM-1079-001                                 0   \n",
       "\n",
       "hash                         fffe4057d41c6ef3b16a370498eb01a9  \\\n",
       "id                                                              \n",
       "22001612560009|GFM-1079-007                                 0   \n",
       "22001612560012|GFM-1079-011                                 0   \n",
       "22001612560014|GFM-1079-016                                 0   \n",
       "22001612560015|GFM-1079-015                                 0   \n",
       "22001612560016|GFM-1079-001                                 0   \n",
       "\n",
       "hash                         ffff9eed68c63035d7f56c61d7603794  \n",
       "id                                                             \n",
       "22001612560009|GFM-1079-007                                 0  \n",
       "22001612560012|GFM-1079-011                                 0  \n",
       "22001612560014|GFM-1079-016                                 0  \n",
       "22001612560015|GFM-1079-015                                 0  \n",
       "22001612560016|GFM-1079-001                                 0  \n",
       "\n",
       "[5 rows x 89022 columns]"
      ]
     },
     "execution_count": 4,
     "metadata": {},
     "output_type": "execute_result"
    }
   ],
   "source": [
    "# convert asvs to wide format\n",
    "asvs_wide = asvs.pivot_table(index=\"id\", columns=\"hash\", values=\"count\", fill_value=0, aggfunc=\"sum\")\n",
    "asvs_wide.head()"
   ]
  },
  {
   "cell_type": "code",
   "execution_count": 5,
   "id": "b4348af2-9b20-40a8-a577-2e468aae1a7e",
   "metadata": {},
   "outputs": [
    {
     "data": {
      "text/plain": [
       "True"
      ]
     },
     "execution_count": 5,
     "metadata": {},
     "output_type": "execute_result"
    }
   ],
   "source": [
    "#confirm number of reads per sample was conserved\n",
    "all(asvs_wide.sum(axis=1) == asvs.groupby(\"id\")[\"count\"].sum())"
   ]
  },
  {
   "cell_type": "code",
   "execution_count": 6,
   "id": "2f025884-f675-4ed4-bb9d-432bca5cec12",
   "metadata": {},
   "outputs": [
    {
     "data": {
      "text/plain": [
       "<artifact: FeatureTable[Frequency] uuid: 26b3042e-5a9f-4103-9759-17757655c6a0>"
      ]
     },
     "execution_count": 6,
     "metadata": {},
     "output_type": "execute_result"
    }
   ],
   "source": [
    "table = q2.Artifact.import_data(\"FeatureTable[Frequency]\", asvs_wide)\n",
    "table"
   ]
  },
  {
   "cell_type": "code",
   "execution_count": 7,
   "id": "c0e1b0dc-d242-4238-80fd-4776b9505415",
   "metadata": {},
   "outputs": [
    {
     "data": {
      "text/plain": [
       "'/proj/gibbons/kramos/github/IBT-and-the-Gut-Microbiome/arivale_cohort/arivale_table.qza'"
      ]
     },
     "execution_count": 7,
     "metadata": {},
     "output_type": "execute_result"
    }
   ],
   "source": [
    "table.save(genpath+'/arivale_cohort/arivale_table.qza')"
   ]
  },
  {
   "cell_type": "code",
   "execution_count": 8,
   "id": "1c8d14a6-3d94-4473-afe8-01ff9d97c164",
   "metadata": {},
   "outputs": [
    {
     "name": "stdout",
     "output_type": "stream",
     "text": [
      "\u001b[32mSaved Visualization to: /proj/gibbons/kramos/github/IBT-and-the-Gut-Microbiome/arivale_cohort/summary.qzv\u001b[0m\n",
      "\u001b[0m"
     ]
    }
   ],
   "source": [
    "# From the feature table, I need to visualize the data so I can rarefy to the minimum \n",
    "! qiime feature-table summarize \\\n",
    "    --i-table /proj/gibbons/kramos/github/IBT-and-the-Gut-Microbiome/arivale_cohort/arivale_table.qza \\\n",
    "    --o-visualization /proj/gibbons/kramos/github/IBT-and-the-Gut-Microbiome/arivale_cohort/summary.qzv\n"
   ]
  },
  {
   "cell_type": "code",
   "execution_count": 9,
   "id": "59e5c917-7c01-4044-9c2b-d7bed72b8d9a",
   "metadata": {},
   "outputs": [
    {
     "name": "stdout",
     "output_type": "stream",
     "text": [
      "\u001b[32mSaved FeatureTable[Frequency] to: /proj/gibbons/kramos/github/IBT-and-the-Gut-Microbiome/arivale_cohort/rare13703_table.qza\u001b[0m\n",
      "\u001b[0m"
     ]
    }
   ],
   "source": [
    "# rarefy the table 13700, which is rouhgly the sample minimum\n",
    "! qiime feature-table rarefy --i-table /proj/gibbons/kramos/github/IBT-and-the-Gut-Microbiome/arivale_cohort/arivale_table.qza \\\n",
    "    --p-sampling-depth 13703 \\\n",
    "    --o-rarefied-table /proj/gibbons/kramos/github/IBT-and-the-Gut-Microbiome/arivale_cohort/rare13703_table.qza\n"
   ]
  },
  {
   "cell_type": "code",
   "execution_count": 10,
   "id": "459b8ed3-f918-4a34-8a77-08f497f28575",
   "metadata": {},
   "outputs": [
    {
     "name": "stdout",
     "output_type": "stream",
     "text": [
      "\u001b[32mSaved SampleData[AlphaDiversity] to: /proj/gibbons/kramos/github/IBT-and-the-Gut-Microbiome/arivale_cohort/simpson_diversity.qza\u001b[0m\n",
      "\u001b[0m"
     ]
    }
   ],
   "source": [
    "# Get simpson diversity\n",
    "! qiime diversity alpha \\\n",
    "--i-table /proj/gibbons/kramos/github/IBT-and-the-Gut-Microbiome/arivale_cohort/rare13703_table.qza \\\n",
    "--p-metric simpson \\\n",
    "--o-alpha-diversity /proj/gibbons/kramos/github/IBT-and-the-Gut-Microbiome/arivale_cohort/simpson_diversity.qza"
   ]
  },
  {
   "cell_type": "code",
   "execution_count": 11,
   "id": "897d9068-b283-48cd-af20-2b8f6b59b139",
   "metadata": {},
   "outputs": [
    {
     "data": {
      "text/html": [
       "<div>\n",
       "<style scoped>\n",
       "    .dataframe tbody tr th:only-of-type {\n",
       "        vertical-align: middle;\n",
       "    }\n",
       "\n",
       "    .dataframe tbody tr th {\n",
       "        vertical-align: top;\n",
       "    }\n",
       "\n",
       "    .dataframe thead th {\n",
       "        text-align: right;\n",
       "    }\n",
       "</style>\n",
       "<table border=\"1\" class=\"dataframe\">\n",
       "  <thead>\n",
       "    <tr style=\"text-align: right;\">\n",
       "      <th></th>\n",
       "      <th>Unnamed: 0</th>\n",
       "      <th>simpson</th>\n",
       "      <th>inv_simpson</th>\n",
       "    </tr>\n",
       "  </thead>\n",
       "  <tbody>\n",
       "    <tr>\n",
       "      <th>0</th>\n",
       "      <td>22001612560009|GFM-1079-007</td>\n",
       "      <td>0.982306</td>\n",
       "      <td>56.517362</td>\n",
       "    </tr>\n",
       "    <tr>\n",
       "      <th>1</th>\n",
       "      <td>22001612560012|GFM-1079-011</td>\n",
       "      <td>0.965999</td>\n",
       "      <td>29.410503</td>\n",
       "    </tr>\n",
       "    <tr>\n",
       "      <th>2</th>\n",
       "      <td>22001612560014|GFM-1079-016</td>\n",
       "      <td>0.963639</td>\n",
       "      <td>27.502205</td>\n",
       "    </tr>\n",
       "    <tr>\n",
       "      <th>3</th>\n",
       "      <td>22001612560015|GFM-1079-015</td>\n",
       "      <td>0.946861</td>\n",
       "      <td>18.818695</td>\n",
       "    </tr>\n",
       "    <tr>\n",
       "      <th>4</th>\n",
       "      <td>22001612560016|GFM-1079-001</td>\n",
       "      <td>0.984005</td>\n",
       "      <td>62.521358</td>\n",
       "    </tr>\n",
       "  </tbody>\n",
       "</table>\n",
       "</div>"
      ],
      "text/plain": [
       "                    Unnamed: 0   simpson  inv_simpson\n",
       "0  22001612560009|GFM-1079-007  0.982306    56.517362\n",
       "1  22001612560012|GFM-1079-011  0.965999    29.410503\n",
       "2  22001612560014|GFM-1079-016  0.963639    27.502205\n",
       "3  22001612560015|GFM-1079-015  0.946861    18.818695\n",
       "4  22001612560016|GFM-1079-001  0.984005    62.521358"
      ]
     },
     "execution_count": 11,
     "metadata": {},
     "output_type": "execute_result"
    }
   ],
   "source": [
    "# In the command line, unzip the simpson_diversity.qza file so we can read in the tsv, then convert Simpson (1-D) to Simpson (1/D)\n",
    "simpson = pd.read_csv(genpath+'/arivale_cohort/simpson/data/alpha-diversity.tsv', sep = '\\t')\n",
    "simpson['inv_simpson']=simpson['simpson'].apply(lambda x: 1/(1-x))\n",
    "simpson.head()\n"
   ]
  },
  {
   "cell_type": "code",
   "execution_count": 12,
   "id": "e65b146d-bfcb-43d7-9350-da792858470e",
   "metadata": {},
   "outputs": [],
   "source": [
    "# Save this info for later analysis\n",
    "simpson.to_csv(genpath+'/arivale_cohort/alpha-diversity.csv')"
   ]
  },
  {
   "cell_type": "markdown",
   "id": "65376d00-5c5c-449c-9e3e-bd12fd73e92b",
   "metadata": {},
   "source": [
    "## Now do the same for the American Gut cohort"
   ]
  },
  {
   "cell_type": "code",
   "execution_count": 13,
   "id": "f0a14867-8a9d-4ded-a73e-bae004bbce29",
   "metadata": {},
   "outputs": [],
   "source": [
    "# Save the location of the biom file\n",
    "american_gut = genpath+'/american_gut_cohort/american_gut/deblur_125nt_no_blooms.biom/'"
   ]
  },
  {
   "cell_type": "code",
   "execution_count": 14,
   "id": "1474ff3e-e719-4b7c-aefa-bb33bccc04fd",
   "metadata": {},
   "outputs": [
    {
     "data": {
      "text/plain": [
       "<artifact: FeatureTable[Frequency] uuid: a2ad093d-89ff-4f16-b2e2-80217d91a60e>"
      ]
     },
     "execution_count": 14,
     "metadata": {},
     "output_type": "execute_result"
    }
   ],
   "source": [
    "table = q2.Artifact.import_data(\"FeatureTable[Frequency]\", american_gut)\n",
    "table"
   ]
  },
  {
   "cell_type": "code",
   "execution_count": 15,
   "id": "61595012-eb9a-42b1-abc7-091dacfe2510",
   "metadata": {},
   "outputs": [
    {
     "data": {
      "text/plain": [
       "'/proj/gibbons/kramos/github/IBT-and-the-Gut-Microbiome/american_gut_cohort/table.qza'"
      ]
     },
     "execution_count": 15,
     "metadata": {},
     "output_type": "execute_result"
    }
   ],
   "source": [
    "table.save(genpath+'/american_gut_cohort/table.qza')"
   ]
  },
  {
   "cell_type": "code",
   "execution_count": 16,
   "id": "e7d85ad9-9fb1-4b56-953c-573aef6eb7ba",
   "metadata": {},
   "outputs": [
    {
     "name": "stdout",
     "output_type": "stream",
     "text": [
      "\u001b[32mSaved Visualization to: /proj/gibbons/kramos/github/IBT-and-the-Gut-Microbiome/american_gut_cohort/summary.qzv\u001b[0m\n",
      "\u001b[0m"
     ]
    }
   ],
   "source": [
    "# From the feature table, I need to visualize the data so I can rarefy to the minimum \n",
    "! qiime feature-table summarize \\\n",
    "    --i-table /proj/gibbons/kramos/github/IBT-and-the-Gut-Microbiome/american_gut_cohort/table.qza \\\n",
    "    --o-visualization /proj/gibbons/kramos/github/IBT-and-the-Gut-Microbiome/american_gut_cohort/summary.qzv"
   ]
  },
  {
   "cell_type": "code",
   "execution_count": 17,
   "id": "338d27cf-2bcb-4e77-83ee-cdeb775ac0e6",
   "metadata": {},
   "outputs": [
    {
     "name": "stdout",
     "output_type": "stream",
     "text": [
      "\u001b[32mSaved FeatureTable[Frequency] to: /proj/gibbons/kramos/github/IBT-and-the-Gut-Microbiome/american_gut_cohort/rare1250_amgut_table.qza\u001b[0m\n",
      "\u001b[0m"
     ]
    }
   ],
   "source": [
    "# rarefy the table 1250\n",
    "! qiime feature-table rarefy \\\n",
    "    --i-table /proj/gibbons/kramos/github/IBT-and-the-Gut-Microbiome/american_gut_cohort/table.qza \\\n",
    "    --p-sampling-depth 1250 \\\n",
    "    --o-rarefied-table /proj/gibbons/kramos/github/IBT-and-the-Gut-Microbiome/american_gut_cohort/rare1250_amgut_table.qza\n",
    "\n"
   ]
  },
  {
   "cell_type": "code",
   "execution_count": 18,
   "id": "fa259835-90fe-43d0-b09c-55a203608d4a",
   "metadata": {},
   "outputs": [
    {
     "name": "stdout",
     "output_type": "stream",
     "text": [
      "\u001b[32mSaved SampleData[AlphaDiversity] to: /proj/gibbons/kramos/github/IBT-and-the-Gut-Microbiome/american_gut_cohort/simpson.qza\u001b[0m\n",
      "\u001b[0m"
     ]
    }
   ],
   "source": [
    "! qiime diversity alpha \\\n",
    "    --i-table /proj/gibbons/kramos/github/IBT-and-the-Gut-Microbiome/american_gut_cohort/rare1250_amgut_table.qza \\\n",
    "    --p-metric simpson \\\n",
    "    --o-alpha-diversity /proj/gibbons/kramos/github/IBT-and-the-Gut-Microbiome/american_gut_cohort/simpson.qza"
   ]
  },
  {
   "cell_type": "code",
   "execution_count": 19,
   "id": "9dfe23f0-ad27-4105-bca8-b56f821ed8bf",
   "metadata": {},
   "outputs": [
    {
     "data": {
      "text/html": [
       "<div>\n",
       "<style scoped>\n",
       "    .dataframe tbody tr th:only-of-type {\n",
       "        vertical-align: middle;\n",
       "    }\n",
       "\n",
       "    .dataframe tbody tr th {\n",
       "        vertical-align: top;\n",
       "    }\n",
       "\n",
       "    .dataframe thead th {\n",
       "        text-align: right;\n",
       "    }\n",
       "</style>\n",
       "<table border=\"1\" class=\"dataframe\">\n",
       "  <thead>\n",
       "    <tr style=\"text-align: right;\">\n",
       "      <th></th>\n",
       "      <th>Unnamed: 0</th>\n",
       "      <th>simpson</th>\n",
       "      <th>inv_simpson</th>\n",
       "    </tr>\n",
       "  </thead>\n",
       "  <tbody>\n",
       "    <tr>\n",
       "      <th>0</th>\n",
       "      <td>10317.000012326</td>\n",
       "      <td>0.943562</td>\n",
       "      <td>17.718634</td>\n",
       "    </tr>\n",
       "    <tr>\n",
       "      <th>1</th>\n",
       "      <td>10317.000054127</td>\n",
       "      <td>0.927063</td>\n",
       "      <td>13.710470</td>\n",
       "    </tr>\n",
       "    <tr>\n",
       "      <th>2</th>\n",
       "      <td>10317.000030973</td>\n",
       "      <td>0.890921</td>\n",
       "      <td>9.167664</td>\n",
       "    </tr>\n",
       "    <tr>\n",
       "      <th>3</th>\n",
       "      <td>10317.000069160</td>\n",
       "      <td>0.916826</td>\n",
       "      <td>12.022930</td>\n",
       "    </tr>\n",
       "    <tr>\n",
       "      <th>4</th>\n",
       "      <td>10317.000059092</td>\n",
       "      <td>0.640143</td>\n",
       "      <td>2.778884</td>\n",
       "    </tr>\n",
       "  </tbody>\n",
       "</table>\n",
       "</div>"
      ],
      "text/plain": [
       "        Unnamed: 0   simpson  inv_simpson\n",
       "0  10317.000012326  0.943562    17.718634\n",
       "1  10317.000054127  0.927063    13.710470\n",
       "2  10317.000030973  0.890921     9.167664\n",
       "3  10317.000069160  0.916826    12.022930\n",
       "4  10317.000059092  0.640143     2.778884"
      ]
     },
     "execution_count": 19,
     "metadata": {},
     "output_type": "execute_result"
    }
   ],
   "source": [
    "# In the command line, unzip the simpson.qza so we can read in the tsv and take a look at it\n",
    "simpson = pd.read_csv(genpath+'/american_gut_cohort/simpson/data/alpha-diversity.tsv', sep = '\\t')\n",
    "\n",
    "# Convert Simpson (1-D) to Simpson (1/D)\n",
    "simpson['inv_simpson']=simpson['simpson'].apply(lambda x: 1/(1-x))\n",
    "simpson.head()"
   ]
  },
  {
   "cell_type": "code",
   "execution_count": 20,
   "id": "8fec1286-cd9b-472b-86c7-cb25a353f292",
   "metadata": {},
   "outputs": [],
   "source": [
    "# Save to csv so I can make an excel table with it\n",
    "simpson.to_csv(genpath+'/american_gut_cohort/alpha-diversity.csv')"
   ]
  }
 ],
 "metadata": {
  "kernelspec": {
   "display_name": "Python 3 (ipykernel)",
   "language": "python",
   "name": "python3"
  },
  "language_info": {
   "codemirror_mode": {
    "name": "ipython",
    "version": 3
   },
   "file_extension": ".py",
   "mimetype": "text/x-python",
   "name": "python",
   "nbconvert_exporter": "python",
   "pygments_lexer": "ipython3",
   "version": "3.8.13"
  }
 },
 "nbformat": 4,
 "nbformat_minor": 5
}
