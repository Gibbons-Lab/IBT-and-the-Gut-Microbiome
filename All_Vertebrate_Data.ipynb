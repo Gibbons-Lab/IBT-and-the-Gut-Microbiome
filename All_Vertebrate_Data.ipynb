{
 "cells": [
  {
   "cell_type": "markdown",
   "id": "606d110e-6194-45ff-b95b-d254b5d3fcbd",
   "metadata": {},
   "source": [
    "# Make a multipanel figure and run regressions with all the animal gut datasets"
   ]
  },
  {
   "cell_type": "code",
   "execution_count": 1,
   "id": "b3b18ac3-92d6-4184-b73b-48d46cf64adc",
   "metadata": {},
   "outputs": [],
   "source": [
    "import pandas as pd\n",
    "import numpy as np\n",
    "import matplotlib.pyplot as plt\n",
    "%matplotlib inline\n",
    "import warnings\n",
    "warnings.simplefilter('ignore')\n",
    "import seaborn as sns\n",
    "from rich.progress import track\n",
    "from statsmodels.formula.api import ols\n"
   ]
  },
  {
   "cell_type": "code",
   "execution_count": 2,
   "id": "eb2dca44-7cde-4770-a9c5-d47cb464c920",
   "metadata": {
    "tags": []
   },
   "outputs": [],
   "source": [
    "genpath='/proj/gibbons/kramos/github/IBT-and-the-Gut-Microbiome'"
   ]
  },
  {
   "cell_type": "markdown",
   "id": "61ffee19-4557-4819-9334-c89a09963c3a",
   "metadata": {},
   "source": [
    "### Import Godon et al dataset"
   ]
  },
  {
   "cell_type": "code",
   "execution_count": 3,
   "id": "6a55de6c-890c-4938-8ddf-bbdcfc448ac4",
   "metadata": {},
   "outputs": [
    {
     "data": {
      "text/html": [
       "<div>\n",
       "<style scoped>\n",
       "    .dataframe tbody tr th:only-of-type {\n",
       "        vertical-align: middle;\n",
       "    }\n",
       "\n",
       "    .dataframe tbody tr th {\n",
       "        vertical-align: top;\n",
       "    }\n",
       "\n",
       "    .dataframe thead th {\n",
       "        text-align: right;\n",
       "    }\n",
       "</style>\n",
       "<table border=\"1\" class=\"dataframe\">\n",
       "  <thead>\n",
       "    <tr style=\"text-align: right;\">\n",
       "      <th></th>\n",
       "      <th>Name (common name)</th>\n",
       "      <th>Phylogeny</th>\n",
       "      <th>body_mass_kg</th>\n",
       "      <th>Feeding type</th>\n",
       "      <th>Type of digestive tract</th>\n",
       "      <th>Size of animal husbandry group</th>\n",
       "      <th>inv_simpson</th>\n",
       "      <th>SD</th>\n",
       "      <th>Number of samples</th>\n",
       "    </tr>\n",
       "  </thead>\n",
       "  <tbody>\n",
       "    <tr>\n",
       "      <th>0</th>\n",
       "      <td>Taeniopygia guttata (zebra finch)</td>\n",
       "      <td>Aves, Passeriformes</td>\n",
       "      <td>0.012</td>\n",
       "      <td>Granivorous</td>\n",
       "      <td>Hindgut colon</td>\n",
       "      <td>Large</td>\n",
       "      <td>1.2</td>\n",
       "      <td>0.1</td>\n",
       "      <td>3</td>\n",
       "    </tr>\n",
       "    <tr>\n",
       "      <th>1</th>\n",
       "      <td>Serinus canaria (canary)</td>\n",
       "      <td>Aves, Passeriformes</td>\n",
       "      <td>0.024</td>\n",
       "      <td>Granivorous</td>\n",
       "      <td>Hindgut colon</td>\n",
       "      <td>Large</td>\n",
       "      <td>1.6</td>\n",
       "      <td>0.5</td>\n",
       "      <td>2</td>\n",
       "    </tr>\n",
       "    <tr>\n",
       "      <th>2</th>\n",
       "      <td>Ramphocelus bresilius (brazilian tanager)</td>\n",
       "      <td>Aves, Passeriformes</td>\n",
       "      <td>0.035</td>\n",
       "      <td>Frugivorous</td>\n",
       "      <td>Hindgut colon</td>\n",
       "      <td>Small</td>\n",
       "      <td>3.4</td>\n",
       "      <td>0.4</td>\n",
       "      <td>4</td>\n",
       "    </tr>\n",
       "    <tr>\n",
       "      <th>3</th>\n",
       "      <td>Melopsittacus undulatus (budgerigar)</td>\n",
       "      <td>Aves, Psittaciformes</td>\n",
       "      <td>0.040</td>\n",
       "      <td>Granivorous</td>\n",
       "      <td>Hindgut colon</td>\n",
       "      <td>Large</td>\n",
       "      <td>1.9</td>\n",
       "      <td>3.0</td>\n",
       "      <td>3</td>\n",
       "    </tr>\n",
       "    <tr>\n",
       "      <th>4</th>\n",
       "      <td>Ploceus cucullatus (village weaver)</td>\n",
       "      <td>Aves, Passeriformes</td>\n",
       "      <td>0.040</td>\n",
       "      <td>Granivorous</td>\n",
       "      <td>Hindgut colon</td>\n",
       "      <td>Small</td>\n",
       "      <td>2.3</td>\n",
       "      <td>0.0</td>\n",
       "      <td>2</td>\n",
       "    </tr>\n",
       "  </tbody>\n",
       "</table>\n",
       "</div>"
      ],
      "text/plain": [
       "                          Name (common name)             Phylogeny  \\\n",
       "0          Taeniopygia guttata (zebra finch)   Aves, Passeriformes   \n",
       "1                   Serinus canaria (canary)   Aves, Passeriformes   \n",
       "2  Ramphocelus bresilius (brazilian tanager)   Aves, Passeriformes   \n",
       "3       Melopsittacus undulatus (budgerigar)  Aves, Psittaciformes   \n",
       "4        Ploceus cucullatus (village weaver)   Aves, Passeriformes   \n",
       "\n",
       "   body_mass_kg Feeding type Type of digestive tract  \\\n",
       "0         0.012  Granivorous           Hindgut colon   \n",
       "1         0.024  Granivorous           Hindgut colon   \n",
       "2         0.035  Frugivorous           Hindgut colon   \n",
       "3         0.040  Granivorous           Hindgut colon   \n",
       "4         0.040  Granivorous           Hindgut colon   \n",
       "\n",
       "  Size of animal husbandry group  inv_simpson   SD  Number of samples  \n",
       "0                          Large          1.2  0.1                  3  \n",
       "1                          Large          1.6  0.5                  2  \n",
       "2                          Small          3.4  0.4                  4  \n",
       "3                          Large          1.9  3.0                  3  \n",
       "4                          Small          2.3  0.0                  2  "
      ]
     },
     "execution_count": 3,
     "metadata": {},
     "output_type": "execute_result"
    }
   ],
   "source": [
    "crystals= pd.read_excel(genpath+'/Godon_data/Animal_Gut_Table_1.xlsx').rename(columns = {'Body mass (kg)':'body_mass_kg', 'Diversity':'inv_simpson'})\n",
    "crystals.head()\n"
   ]
  },
  {
   "cell_type": "markdown",
   "id": "4227336b-d1b8-4c2d-b2b9-d3edcbe8773a",
   "metadata": {},
   "source": [
    "### Import Song and Groussin datasets"
   ]
  },
  {
   "cell_type": "code",
   "execution_count": 4,
   "id": "74418517-6c70-4d7e-ac86-fb46df11fc37",
   "metadata": {},
   "outputs": [
    {
     "data": {
      "text/html": [
       "<div>\n",
       "<style scoped>\n",
       "    .dataframe tbody tr th:only-of-type {\n",
       "        vertical-align: middle;\n",
       "    }\n",
       "\n",
       "    .dataframe tbody tr th {\n",
       "        vertical-align: top;\n",
       "    }\n",
       "\n",
       "    .dataframe thead th {\n",
       "        text-align: right;\n",
       "    }\n",
       "</style>\n",
       "<table border=\"1\" class=\"dataframe\">\n",
       "  <thead>\n",
       "    <tr style=\"text-align: right;\">\n",
       "      <th></th>\n",
       "      <th>Unnamed: 0</th>\n",
       "      <th>SampleID</th>\n",
       "      <th>simpson</th>\n",
       "      <th>body_mass_kg</th>\n",
       "      <th>dataset</th>\n",
       "      <th>inv_simpson</th>\n",
       "    </tr>\n",
       "  </thead>\n",
       "  <tbody>\n",
       "    <tr>\n",
       "      <th>0</th>\n",
       "      <td>0</td>\n",
       "      <td>Armadillo</td>\n",
       "      <td>0.991125</td>\n",
       "      <td>1.20</td>\n",
       "      <td>Groussin et al</td>\n",
       "      <td>112.679696</td>\n",
       "    </tr>\n",
       "    <tr>\n",
       "      <th>1</th>\n",
       "      <td>1</td>\n",
       "      <td>BaboonSTL</td>\n",
       "      <td>0.954364</td>\n",
       "      <td>18.00</td>\n",
       "      <td>Groussin et al</td>\n",
       "      <td>21.912337</td>\n",
       "    </tr>\n",
       "    <tr>\n",
       "      <th>2</th>\n",
       "      <td>2</td>\n",
       "      <td>BigHornSD</td>\n",
       "      <td>0.996792</td>\n",
       "      <td>67.13</td>\n",
       "      <td>Groussin et al</td>\n",
       "      <td>311.698950</td>\n",
       "    </tr>\n",
       "    <tr>\n",
       "      <th>3</th>\n",
       "      <td>3</td>\n",
       "      <td>BlackBr2</td>\n",
       "      <td>0.465413</td>\n",
       "      <td>175.00</td>\n",
       "      <td>Groussin et al</td>\n",
       "      <td>1.870604</td>\n",
       "    </tr>\n",
       "    <tr>\n",
       "      <th>4</th>\n",
       "      <td>4</td>\n",
       "      <td>BlackLemur</td>\n",
       "      <td>0.870901</td>\n",
       "      <td>2.04</td>\n",
       "      <td>Groussin et al</td>\n",
       "      <td>7.746001</td>\n",
       "    </tr>\n",
       "  </tbody>\n",
       "</table>\n",
       "</div>"
      ],
      "text/plain": [
       "   Unnamed: 0    SampleID   simpson  body_mass_kg         dataset  inv_simpson\n",
       "0           0   Armadillo  0.991125          1.20  Groussin et al   112.679696\n",
       "1           1   BaboonSTL  0.954364         18.00  Groussin et al    21.912337\n",
       "2           2   BigHornSD  0.996792         67.13  Groussin et al   311.698950\n",
       "3           3    BlackBr2  0.465413        175.00  Groussin et al     1.870604\n",
       "4           4  BlackLemur  0.870901          2.04  Groussin et al     7.746001"
      ]
     },
     "execution_count": 4,
     "metadata": {},
     "output_type": "execute_result"
    }
   ],
   "source": [
    "# We generated this CSV in the vertebrate diversity notebook\n",
    "all_16S = pd.read_csv(genpath+'/output/Song_Groussin_Diversity.csv')\n",
    "all_16S.head()"
   ]
  },
  {
   "cell_type": "code",
   "execution_count": 5,
   "id": "1db6fd1b-2a1f-455f-8c93-5c53a1f3878a",
   "metadata": {},
   "outputs": [
    {
     "data": {
      "text/html": [
       "<div>\n",
       "<style scoped>\n",
       "    .dataframe tbody tr th:only-of-type {\n",
       "        vertical-align: middle;\n",
       "    }\n",
       "\n",
       "    .dataframe tbody tr th {\n",
       "        vertical-align: top;\n",
       "    }\n",
       "\n",
       "    .dataframe thead th {\n",
       "        text-align: right;\n",
       "    }\n",
       "</style>\n",
       "<table border=\"1\" class=\"dataframe\">\n",
       "  <thead>\n",
       "    <tr style=\"text-align: right;\">\n",
       "      <th></th>\n",
       "      <th>Unnamed: 0</th>\n",
       "      <th>SampleID</th>\n",
       "      <th>simpson</th>\n",
       "      <th>body_mass_kg</th>\n",
       "      <th>dataset</th>\n",
       "      <th>inv_simpson</th>\n",
       "      <th>color</th>\n",
       "    </tr>\n",
       "  </thead>\n",
       "  <tbody>\n",
       "    <tr>\n",
       "      <th>0</th>\n",
       "      <td>0</td>\n",
       "      <td>Armadillo</td>\n",
       "      <td>0.991125</td>\n",
       "      <td>1.20</td>\n",
       "      <td>Groussin et al</td>\n",
       "      <td>112.679696</td>\n",
       "      <td>#AA4499</td>\n",
       "    </tr>\n",
       "    <tr>\n",
       "      <th>1</th>\n",
       "      <td>1</td>\n",
       "      <td>BaboonSTL</td>\n",
       "      <td>0.954364</td>\n",
       "      <td>18.00</td>\n",
       "      <td>Groussin et al</td>\n",
       "      <td>21.912337</td>\n",
       "      <td>#AA4499</td>\n",
       "    </tr>\n",
       "    <tr>\n",
       "      <th>2</th>\n",
       "      <td>2</td>\n",
       "      <td>BigHornSD</td>\n",
       "      <td>0.996792</td>\n",
       "      <td>67.13</td>\n",
       "      <td>Groussin et al</td>\n",
       "      <td>311.698950</td>\n",
       "      <td>#AA4499</td>\n",
       "    </tr>\n",
       "    <tr>\n",
       "      <th>3</th>\n",
       "      <td>3</td>\n",
       "      <td>BlackBr2</td>\n",
       "      <td>0.465413</td>\n",
       "      <td>175.00</td>\n",
       "      <td>Groussin et al</td>\n",
       "      <td>1.870604</td>\n",
       "      <td>#AA4499</td>\n",
       "    </tr>\n",
       "    <tr>\n",
       "      <th>4</th>\n",
       "      <td>4</td>\n",
       "      <td>BlackLemur</td>\n",
       "      <td>0.870901</td>\n",
       "      <td>2.04</td>\n",
       "      <td>Groussin et al</td>\n",
       "      <td>7.746001</td>\n",
       "      <td>#AA4499</td>\n",
       "    </tr>\n",
       "  </tbody>\n",
       "</table>\n",
       "</div>"
      ],
      "text/plain": [
       "   Unnamed: 0    SampleID   simpson  body_mass_kg         dataset  \\\n",
       "0           0   Armadillo  0.991125          1.20  Groussin et al   \n",
       "1           1   BaboonSTL  0.954364         18.00  Groussin et al   \n",
       "2           2   BigHornSD  0.996792         67.13  Groussin et al   \n",
       "3           3    BlackBr2  0.465413        175.00  Groussin et al   \n",
       "4           4  BlackLemur  0.870901          2.04  Groussin et al   \n",
       "\n",
       "   inv_simpson    color  \n",
       "0   112.679696  #AA4499  \n",
       "1    21.912337  #AA4499  \n",
       "2   311.698950  #AA4499  \n",
       "3     1.870604  #AA4499  \n",
       "4     7.746001  #AA4499  "
      ]
     },
     "execution_count": 5,
     "metadata": {},
     "output_type": "execute_result"
    }
   ],
   "source": [
    "# Add color column so I can assign them when I plot\n",
    "all_16S['color'] = all_16S.dataset.apply(lambda x: '#AA4499' if x == 'Groussin et al' else '#88CCEE')\n",
    "all_16S.head()"
   ]
  },
  {
   "cell_type": "markdown",
   "id": "e61bb6e5-edd6-4bbd-aab7-a3aebeadf18e",
   "metadata": {},
   "source": [
    "### Log transform data in to a different df called 'toplot'"
   ]
  },
  {
   "cell_type": "code",
   "execution_count": 6,
   "id": "f63c8958-0fd7-4b11-8e65-ca037072aff1",
   "metadata": {},
   "outputs": [
    {
     "data": {
      "text/html": [
       "<div>\n",
       "<style scoped>\n",
       "    .dataframe tbody tr th:only-of-type {\n",
       "        vertical-align: middle;\n",
       "    }\n",
       "\n",
       "    .dataframe tbody tr th {\n",
       "        vertical-align: top;\n",
       "    }\n",
       "\n",
       "    .dataframe thead th {\n",
       "        text-align: right;\n",
       "    }\n",
       "</style>\n",
       "<table border=\"1\" class=\"dataframe\">\n",
       "  <thead>\n",
       "    <tr style=\"text-align: right;\">\n",
       "      <th></th>\n",
       "      <th>SampleID</th>\n",
       "      <th>inv_simpson</th>\n",
       "      <th>body_mass_kg</th>\n",
       "      <th>color</th>\n",
       "      <th>dataset</th>\n",
       "    </tr>\n",
       "  </thead>\n",
       "  <tbody>\n",
       "    <tr>\n",
       "      <th>0</th>\n",
       "      <td>Armadillo</td>\n",
       "      <td>4.724549</td>\n",
       "      <td>0.182322</td>\n",
       "      <td>#AA4499</td>\n",
       "      <td>Groussin et al</td>\n",
       "    </tr>\n",
       "    <tr>\n",
       "      <th>1</th>\n",
       "      <td>BaboonSTL</td>\n",
       "      <td>3.087050</td>\n",
       "      <td>2.890372</td>\n",
       "      <td>#AA4499</td>\n",
       "      <td>Groussin et al</td>\n",
       "    </tr>\n",
       "    <tr>\n",
       "      <th>2</th>\n",
       "      <td>BigHornSD</td>\n",
       "      <td>5.742038</td>\n",
       "      <td>4.206631</td>\n",
       "      <td>#AA4499</td>\n",
       "      <td>Groussin et al</td>\n",
       "    </tr>\n",
       "    <tr>\n",
       "      <th>3</th>\n",
       "      <td>BlackBr2</td>\n",
       "      <td>0.626261</td>\n",
       "      <td>5.164786</td>\n",
       "      <td>#AA4499</td>\n",
       "      <td>Groussin et al</td>\n",
       "    </tr>\n",
       "    <tr>\n",
       "      <th>4</th>\n",
       "      <td>BlackLemur</td>\n",
       "      <td>2.047177</td>\n",
       "      <td>0.712950</td>\n",
       "      <td>#AA4499</td>\n",
       "      <td>Groussin et al</td>\n",
       "    </tr>\n",
       "  </tbody>\n",
       "</table>\n",
       "</div>"
      ],
      "text/plain": [
       "     SampleID  inv_simpson  body_mass_kg    color         dataset\n",
       "0   Armadillo     4.724549      0.182322  #AA4499  Groussin et al\n",
       "1   BaboonSTL     3.087050      2.890372  #AA4499  Groussin et al\n",
       "2   BigHornSD     5.742038      4.206631  #AA4499  Groussin et al\n",
       "3    BlackBr2     0.626261      5.164786  #AA4499  Groussin et al\n",
       "4  BlackLemur     2.047177      0.712950  #AA4499  Groussin et al"
      ]
     },
     "execution_count": 6,
     "metadata": {},
     "output_type": "execute_result"
    }
   ],
   "source": [
    "all_toplot = all_16S[['SampleID', 'inv_simpson', 'body_mass_kg', 'color', 'dataset']].copy()\n",
    "features = ['inv_simpson', 'body_mass_kg']\n",
    "all_toplot[features] = all_toplot[features].apply(lambda x: np.log(x))\n",
    "\n",
    "# Drop rows with no data\n",
    "all_toplot = all_toplot.dropna()\n",
    "all_toplot.head()"
   ]
  },
  {
   "cell_type": "code",
   "execution_count": 7,
   "id": "56ea1d73-a3aa-4a53-acb1-de06d4c6b0eb",
   "metadata": {},
   "outputs": [
    {
     "data": {
      "text/html": [
       "<div>\n",
       "<style scoped>\n",
       "    .dataframe tbody tr th:only-of-type {\n",
       "        vertical-align: middle;\n",
       "    }\n",
       "\n",
       "    .dataframe tbody tr th {\n",
       "        vertical-align: top;\n",
       "    }\n",
       "\n",
       "    .dataframe thead th {\n",
       "        text-align: right;\n",
       "    }\n",
       "</style>\n",
       "<table border=\"1\" class=\"dataframe\">\n",
       "  <thead>\n",
       "    <tr style=\"text-align: right;\">\n",
       "      <th></th>\n",
       "      <th>Name (common name)</th>\n",
       "      <th>body_mass_kg</th>\n",
       "      <th>inv_simpson</th>\n",
       "    </tr>\n",
       "  </thead>\n",
       "  <tbody>\n",
       "    <tr>\n",
       "      <th>0</th>\n",
       "      <td>Taeniopygia guttata (zebra finch)</td>\n",
       "      <td>-4.422849</td>\n",
       "      <td>0.182322</td>\n",
       "    </tr>\n",
       "    <tr>\n",
       "      <th>1</th>\n",
       "      <td>Serinus canaria (canary)</td>\n",
       "      <td>-3.729701</td>\n",
       "      <td>0.470004</td>\n",
       "    </tr>\n",
       "    <tr>\n",
       "      <th>2</th>\n",
       "      <td>Ramphocelus bresilius (brazilian tanager)</td>\n",
       "      <td>-3.352407</td>\n",
       "      <td>1.223775</td>\n",
       "    </tr>\n",
       "    <tr>\n",
       "      <th>3</th>\n",
       "      <td>Melopsittacus undulatus (budgerigar)</td>\n",
       "      <td>-3.218876</td>\n",
       "      <td>0.641854</td>\n",
       "    </tr>\n",
       "    <tr>\n",
       "      <th>4</th>\n",
       "      <td>Ploceus cucullatus (village weaver)</td>\n",
       "      <td>-3.218876</td>\n",
       "      <td>0.832909</td>\n",
       "    </tr>\n",
       "  </tbody>\n",
       "</table>\n",
       "</div>"
      ],
      "text/plain": [
       "                          Name (common name)  body_mass_kg  inv_simpson\n",
       "0          Taeniopygia guttata (zebra finch)     -4.422849     0.182322\n",
       "1                   Serinus canaria (canary)     -3.729701     0.470004\n",
       "2  Ramphocelus bresilius (brazilian tanager)     -3.352407     1.223775\n",
       "3       Melopsittacus undulatus (budgerigar)     -3.218876     0.641854\n",
       "4        Ploceus cucullatus (village weaver)     -3.218876     0.832909"
      ]
     },
     "execution_count": 7,
     "metadata": {},
     "output_type": "execute_result"
    }
   ],
   "source": [
    "c_toplot = crystals[['Name (common name)', 'body_mass_kg', 'inv_simpson']].copy()\n",
    "features = ['body_mass_kg', 'inv_simpson']\n",
    "c_toplot[features] = c_toplot[features].apply(lambda x: np.log(x))\n",
    "\n",
    "# Drop rows with no data\n",
    "c_toplot = c_toplot.dropna()\n",
    "c_toplot.head()"
   ]
  },
  {
   "cell_type": "markdown",
   "id": "90b8a7ae-4709-4a68-ad88-3991d163796d",
   "metadata": {},
   "source": [
    "### Do ols with log transformed data, so I can display certain values on my plot later"
   ]
  },
  {
   "cell_type": "code",
   "execution_count": 8,
   "id": "b836553b-e6ea-45ee-bf76-e4814a4916e3",
   "metadata": {},
   "outputs": [
    {
     "data": {
      "application/vnd.jupyter.widget-view+json": {
       "model_id": "feb14b66e75049cb982d7999624c4131",
       "version_major": 2,
       "version_minor": 0
      },
      "text/plain": [
       "Output()"
      ]
     },
     "metadata": {},
     "output_type": "display_data"
    },
    {
     "data": {
      "text/html": [
       "<pre style=\"white-space:pre;overflow-x:auto;line-height:normal;font-family:Menlo,'DejaVu Sans Mono',consolas,'Courier New',monospace\"></pre>\n"
      ],
      "text/plain": []
     },
     "metadata": {},
     "output_type": "display_data"
    },
    {
     "data": {
      "text/html": [
       "<pre style=\"white-space:pre;overflow-x:auto;line-height:normal;font-family:Menlo,'DejaVu Sans Mono',consolas,'Courier New',monospace\">\n",
       "</pre>\n"
      ],
      "text/plain": [
       "\n"
      ]
     },
     "metadata": {},
     "output_type": "display_data"
    },
    {
     "data": {
      "text/html": [
       "<div>\n",
       "<style scoped>\n",
       "    .dataframe tbody tr th:only-of-type {\n",
       "        vertical-align: middle;\n",
       "    }\n",
       "\n",
       "    .dataframe tbody tr th {\n",
       "        vertical-align: top;\n",
       "    }\n",
       "\n",
       "    .dataframe thead th {\n",
       "        text-align: right;\n",
       "    }\n",
       "</style>\n",
       "<table border=\"1\" class=\"dataframe\">\n",
       "  <thead>\n",
       "    <tr style=\"text-align: right;\">\n",
       "      <th></th>\n",
       "      <th>feature</th>\n",
       "      <th>beta</th>\n",
       "      <th>t_statistic</th>\n",
       "      <th>p</th>\n",
       "      <th>n</th>\n",
       "      <th>rsquared</th>\n",
       "    </tr>\n",
       "  </thead>\n",
       "  <tbody>\n",
       "    <tr>\n",
       "      <th>inv_simpson</th>\n",
       "      <td>inv_simpson</td>\n",
       "      <td>0.235428</td>\n",
       "      <td>36.234293</td>\n",
       "      <td>2.141585e-203</td>\n",
       "      <td>1403.0</td>\n",
       "      <td>0.483773</td>\n",
       "    </tr>\n",
       "  </tbody>\n",
       "</table>\n",
       "</div>"
      ],
      "text/plain": [
       "                 feature      beta  t_statistic              p       n  \\\n",
       "inv_simpson  inv_simpson  0.235428    36.234293  2.141585e-203  1403.0   \n",
       "\n",
       "             rsquared  \n",
       "inv_simpson  0.483773  "
      ]
     },
     "execution_count": 8,
     "metadata": {},
     "output_type": "execute_result"
    }
   ],
   "source": [
    "def get_results(feature):\n",
    "    formula = f\"{feature} ~ body_mass_kg\"\n",
    "    fitted = ols(formula, data=df).fit()\n",
    "    return pd.DataFrame({\n",
    "        \"feature\": feature,\n",
    "        \"beta\": fitted.params[\"body_mass_kg\"],\n",
    "        \"t_statistic\": fitted.tvalues[\"body_mass_kg\"],\n",
    "        \"p\": fitted.pvalues[\"body_mass_kg\"],\n",
    "        \"n\": fitted.nobs, \n",
    "        \"rsquared\":fitted.rsquared\n",
    "        }, index=[feature])\n",
    "\n",
    "args = ['inv_simpson']\n",
    "df = all_toplot\n",
    "results = map(get_results, track(args))\n",
    "results = list(results)\n",
    "tests = pd.concat(results)\n",
    "tests"
   ]
  },
  {
   "cell_type": "code",
   "execution_count": 9,
   "id": "e27c5841-dc26-45cf-8a4c-96d860fe59e6",
   "metadata": {},
   "outputs": [
    {
     "name": "stdout",
     "output_type": "stream",
     "text": [
      "2.141584656814487e-203 0.4837733034588967\n"
     ]
    }
   ],
   "source": [
    "# Save p and r squared for later \n",
    "p1 = tests.iloc[0,3]\n",
    "r1 = tests.iloc[0,5]\n",
    "print(p1, r1)"
   ]
  },
  {
   "cell_type": "code",
   "execution_count": 10,
   "id": "cf2fbed0-b1c4-450d-a136-b8c75a40a9a0",
   "metadata": {},
   "outputs": [
    {
     "data": {
      "application/vnd.jupyter.widget-view+json": {
       "model_id": "237e8f8227ce4308ba2b608ef3a84a2f",
       "version_major": 2,
       "version_minor": 0
      },
      "text/plain": [
       "Output()"
      ]
     },
     "metadata": {},
     "output_type": "display_data"
    },
    {
     "data": {
      "text/html": [
       "<pre style=\"white-space:pre;overflow-x:auto;line-height:normal;font-family:Menlo,'DejaVu Sans Mono',consolas,'Courier New',monospace\"></pre>\n"
      ],
      "text/plain": []
     },
     "metadata": {},
     "output_type": "display_data"
    },
    {
     "data": {
      "text/html": [
       "<pre style=\"white-space:pre;overflow-x:auto;line-height:normal;font-family:Menlo,'DejaVu Sans Mono',consolas,'Courier New',monospace\">\n",
       "</pre>\n"
      ],
      "text/plain": [
       "\n"
      ]
     },
     "metadata": {},
     "output_type": "display_data"
    },
    {
     "data": {
      "text/html": [
       "<div>\n",
       "<style scoped>\n",
       "    .dataframe tbody tr th:only-of-type {\n",
       "        vertical-align: middle;\n",
       "    }\n",
       "\n",
       "    .dataframe tbody tr th {\n",
       "        vertical-align: top;\n",
       "    }\n",
       "\n",
       "    .dataframe thead th {\n",
       "        text-align: right;\n",
       "    }\n",
       "</style>\n",
       "<table border=\"1\" class=\"dataframe\">\n",
       "  <thead>\n",
       "    <tr style=\"text-align: right;\">\n",
       "      <th></th>\n",
       "      <th>feature</th>\n",
       "      <th>beta</th>\n",
       "      <th>t_statistic</th>\n",
       "      <th>p</th>\n",
       "      <th>n</th>\n",
       "      <th>rsquared</th>\n",
       "    </tr>\n",
       "  </thead>\n",
       "  <tbody>\n",
       "    <tr>\n",
       "      <th>inv_simpson</th>\n",
       "      <td>inv_simpson</td>\n",
       "      <td>0.101589</td>\n",
       "      <td>9.397567</td>\n",
       "      <td>1.831117e-14</td>\n",
       "      <td>80.0</td>\n",
       "      <td>0.531008</td>\n",
       "    </tr>\n",
       "  </tbody>\n",
       "</table>\n",
       "</div>"
      ],
      "text/plain": [
       "                 feature      beta  t_statistic             p     n  rsquared\n",
       "inv_simpson  inv_simpson  0.101589     9.397567  1.831117e-14  80.0  0.531008"
      ]
     },
     "execution_count": 10,
     "metadata": {},
     "output_type": "execute_result"
    }
   ],
   "source": [
    "df = c_toplot\n",
    "results = map(get_results, track(args))\n",
    "results = list(results)\n",
    "tests = pd.concat(results)\n",
    "\n",
    "tests"
   ]
  },
  {
   "cell_type": "code",
   "execution_count": 11,
   "id": "d77edba2-6e15-4746-8075-3add5778323a",
   "metadata": {},
   "outputs": [
    {
     "name": "stdout",
     "output_type": "stream",
     "text": [
      "1.8311170422309435e-14 0.5310083766644857\n"
     ]
    }
   ],
   "source": [
    "# save p and r squared for later\n",
    "p2 = tests.iloc[0,3]\n",
    "r2 = tests.iloc[0,5]\n",
    "\n",
    "print(p2, r2)"
   ]
  },
  {
   "cell_type": "code",
   "execution_count": 12,
   "id": "b5ba4a94-8d04-4f2e-a0ce-9477f56aadd4",
   "metadata": {},
   "outputs": [
    {
     "data": {
      "text/html": [
       "<div>\n",
       "<style scoped>\n",
       "    .dataframe tbody tr th:only-of-type {\n",
       "        vertical-align: middle;\n",
       "    }\n",
       "\n",
       "    .dataframe tbody tr th {\n",
       "        vertical-align: top;\n",
       "    }\n",
       "\n",
       "    .dataframe thead th {\n",
       "        text-align: right;\n",
       "    }\n",
       "</style>\n",
       "<table border=\"1\" class=\"dataframe\">\n",
       "  <thead>\n",
       "    <tr style=\"text-align: right;\">\n",
       "      <th></th>\n",
       "      <th>Unnamed: 0</th>\n",
       "      <th>SampleID</th>\n",
       "      <th>simpson</th>\n",
       "      <th>body_mass_kg</th>\n",
       "      <th>dataset</th>\n",
       "      <th>inv_simpson</th>\n",
       "      <th>color</th>\n",
       "    </tr>\n",
       "  </thead>\n",
       "  <tbody>\n",
       "    <tr>\n",
       "      <th>0</th>\n",
       "      <td>0</td>\n",
       "      <td>Armadillo</td>\n",
       "      <td>0.991125</td>\n",
       "      <td>1.20</td>\n",
       "      <td>Groussin et al</td>\n",
       "      <td>112.679696</td>\n",
       "      <td>#AA4499</td>\n",
       "    </tr>\n",
       "    <tr>\n",
       "      <th>1</th>\n",
       "      <td>1</td>\n",
       "      <td>BaboonSTL</td>\n",
       "      <td>0.954364</td>\n",
       "      <td>18.00</td>\n",
       "      <td>Groussin et al</td>\n",
       "      <td>21.912337</td>\n",
       "      <td>#AA4499</td>\n",
       "    </tr>\n",
       "    <tr>\n",
       "      <th>2</th>\n",
       "      <td>2</td>\n",
       "      <td>BigHornSD</td>\n",
       "      <td>0.996792</td>\n",
       "      <td>67.13</td>\n",
       "      <td>Groussin et al</td>\n",
       "      <td>311.698950</td>\n",
       "      <td>#AA4499</td>\n",
       "    </tr>\n",
       "    <tr>\n",
       "      <th>3</th>\n",
       "      <td>3</td>\n",
       "      <td>BlackBr2</td>\n",
       "      <td>0.465413</td>\n",
       "      <td>175.00</td>\n",
       "      <td>Groussin et al</td>\n",
       "      <td>1.870604</td>\n",
       "      <td>#AA4499</td>\n",
       "    </tr>\n",
       "    <tr>\n",
       "      <th>4</th>\n",
       "      <td>4</td>\n",
       "      <td>BlackLemur</td>\n",
       "      <td>0.870901</td>\n",
       "      <td>2.04</td>\n",
       "      <td>Groussin et al</td>\n",
       "      <td>7.746001</td>\n",
       "      <td>#AA4499</td>\n",
       "    </tr>\n",
       "  </tbody>\n",
       "</table>\n",
       "</div>"
      ],
      "text/plain": [
       "   Unnamed: 0    SampleID   simpson  body_mass_kg         dataset  \\\n",
       "0           0   Armadillo  0.991125          1.20  Groussin et al   \n",
       "1           1   BaboonSTL  0.954364         18.00  Groussin et al   \n",
       "2           2   BigHornSD  0.996792         67.13  Groussin et al   \n",
       "3           3    BlackBr2  0.465413        175.00  Groussin et al   \n",
       "4           4  BlackLemur  0.870901          2.04  Groussin et al   \n",
       "\n",
       "   inv_simpson    color  \n",
       "0   112.679696  #AA4499  \n",
       "1    21.912337  #AA4499  \n",
       "2   311.698950  #AA4499  \n",
       "3     1.870604  #AA4499  \n",
       "4     7.746001  #AA4499  "
      ]
     },
     "execution_count": 12,
     "metadata": {},
     "output_type": "execute_result"
    }
   ],
   "source": [
    "all_16S.head()"
   ]
  },
  {
   "cell_type": "code",
   "execution_count": 13,
   "id": "265800f7-20a1-42fe-ae10-566dfe2c9543",
   "metadata": {},
   "outputs": [
    {
     "data": {
      "text/html": [
       "<div>\n",
       "<style scoped>\n",
       "    .dataframe tbody tr th:only-of-type {\n",
       "        vertical-align: middle;\n",
       "    }\n",
       "\n",
       "    .dataframe tbody tr th {\n",
       "        vertical-align: top;\n",
       "    }\n",
       "\n",
       "    .dataframe thead th {\n",
       "        text-align: right;\n",
       "    }\n",
       "</style>\n",
       "<table border=\"1\" class=\"dataframe\">\n",
       "  <thead>\n",
       "    <tr style=\"text-align: right;\">\n",
       "      <th></th>\n",
       "      <th>SampleID</th>\n",
       "      <th>inv_simpson</th>\n",
       "      <th>body_mass_kg</th>\n",
       "      <th>color</th>\n",
       "      <th>dataset</th>\n",
       "    </tr>\n",
       "  </thead>\n",
       "  <tbody>\n",
       "    <tr>\n",
       "      <th>0</th>\n",
       "      <td>Armadillo</td>\n",
       "      <td>4.724549</td>\n",
       "      <td>0.182322</td>\n",
       "      <td>#AA4499</td>\n",
       "      <td>Groussin et al</td>\n",
       "    </tr>\n",
       "    <tr>\n",
       "      <th>1</th>\n",
       "      <td>BaboonSTL</td>\n",
       "      <td>3.087050</td>\n",
       "      <td>2.890372</td>\n",
       "      <td>#AA4499</td>\n",
       "      <td>Groussin et al</td>\n",
       "    </tr>\n",
       "    <tr>\n",
       "      <th>2</th>\n",
       "      <td>BigHornSD</td>\n",
       "      <td>5.742038</td>\n",
       "      <td>4.206631</td>\n",
       "      <td>#AA4499</td>\n",
       "      <td>Groussin et al</td>\n",
       "    </tr>\n",
       "    <tr>\n",
       "      <th>3</th>\n",
       "      <td>BlackBr2</td>\n",
       "      <td>0.626261</td>\n",
       "      <td>5.164786</td>\n",
       "      <td>#AA4499</td>\n",
       "      <td>Groussin et al</td>\n",
       "    </tr>\n",
       "    <tr>\n",
       "      <th>4</th>\n",
       "      <td>BlackLemur</td>\n",
       "      <td>2.047177</td>\n",
       "      <td>0.712950</td>\n",
       "      <td>#AA4499</td>\n",
       "      <td>Groussin et al</td>\n",
       "    </tr>\n",
       "  </tbody>\n",
       "</table>\n",
       "</div>"
      ],
      "text/plain": [
       "     SampleID  inv_simpson  body_mass_kg    color         dataset\n",
       "0   Armadillo     4.724549      0.182322  #AA4499  Groussin et al\n",
       "1   BaboonSTL     3.087050      2.890372  #AA4499  Groussin et al\n",
       "2   BigHornSD     5.742038      4.206631  #AA4499  Groussin et al\n",
       "3    BlackBr2     0.626261      5.164786  #AA4499  Groussin et al\n",
       "4  BlackLemur     2.047177      0.712950  #AA4499  Groussin et al"
      ]
     },
     "execution_count": 13,
     "metadata": {},
     "output_type": "execute_result"
    }
   ],
   "source": [
    "all_toplot.head()"
   ]
  },
  {
   "cell_type": "code",
   "execution_count": 14,
   "id": "ac1f14b7-54a6-472d-8b1f-bddd954c08b9",
   "metadata": {},
   "outputs": [
    {
     "data": {
      "text/html": [
       "<div>\n",
       "<style scoped>\n",
       "    .dataframe tbody tr th:only-of-type {\n",
       "        vertical-align: middle;\n",
       "    }\n",
       "\n",
       "    .dataframe tbody tr th {\n",
       "        vertical-align: top;\n",
       "    }\n",
       "\n",
       "    .dataframe thead th {\n",
       "        text-align: right;\n",
       "    }\n",
       "</style>\n",
       "<table border=\"1\" class=\"dataframe\">\n",
       "  <thead>\n",
       "    <tr style=\"text-align: right;\">\n",
       "      <th></th>\n",
       "      <th>Name (common name)</th>\n",
       "      <th>body_mass_kg</th>\n",
       "      <th>inv_simpson</th>\n",
       "    </tr>\n",
       "  </thead>\n",
       "  <tbody>\n",
       "    <tr>\n",
       "      <th>0</th>\n",
       "      <td>Taeniopygia guttata (zebra finch)</td>\n",
       "      <td>-4.422849</td>\n",
       "      <td>0.182322</td>\n",
       "    </tr>\n",
       "    <tr>\n",
       "      <th>1</th>\n",
       "      <td>Serinus canaria (canary)</td>\n",
       "      <td>-3.729701</td>\n",
       "      <td>0.470004</td>\n",
       "    </tr>\n",
       "    <tr>\n",
       "      <th>2</th>\n",
       "      <td>Ramphocelus bresilius (brazilian tanager)</td>\n",
       "      <td>-3.352407</td>\n",
       "      <td>1.223775</td>\n",
       "    </tr>\n",
       "    <tr>\n",
       "      <th>3</th>\n",
       "      <td>Melopsittacus undulatus (budgerigar)</td>\n",
       "      <td>-3.218876</td>\n",
       "      <td>0.641854</td>\n",
       "    </tr>\n",
       "    <tr>\n",
       "      <th>4</th>\n",
       "      <td>Ploceus cucullatus (village weaver)</td>\n",
       "      <td>-3.218876</td>\n",
       "      <td>0.832909</td>\n",
       "    </tr>\n",
       "  </tbody>\n",
       "</table>\n",
       "</div>"
      ],
      "text/plain": [
       "                          Name (common name)  body_mass_kg  inv_simpson\n",
       "0          Taeniopygia guttata (zebra finch)     -4.422849     0.182322\n",
       "1                   Serinus canaria (canary)     -3.729701     0.470004\n",
       "2  Ramphocelus bresilius (brazilian tanager)     -3.352407     1.223775\n",
       "3       Melopsittacus undulatus (budgerigar)     -3.218876     0.641854\n",
       "4        Ploceus cucullatus (village weaver)     -3.218876     0.832909"
      ]
     },
     "execution_count": 14,
     "metadata": {},
     "output_type": "execute_result"
    }
   ],
   "source": [
    "c_toplot.head()"
   ]
  },
  {
   "cell_type": "code",
   "execution_count": 15,
   "id": "706fe8e3-ebef-46e7-a045-aea546693dc3",
   "metadata": {},
   "outputs": [
    {
     "data": {
      "image/png": "[encoded data removed]",
      "text/plain": [
       "<Figure size 1000x500 with 2 Axes>"
      ]
     },
     "metadata": {},
     "output_type": "display_data"
    }
   ],
   "source": [
    "sns.set_theme(style='whitegrid',font_scale=1.2)\n",
    "fig, axs = plt.subplots(1,2, figsize = (10,5))\n",
    "\n",
    "x='body_mass_kg'\n",
    "y= 'inv_simpson'\n",
    "\n",
    "color_label = {'#88CCEE':'Groussin et al. 2017,\\n 16S amplicon seq', '#AA4499':'Song et al. 2020,\\n 16S amplicon seq'}\n",
    "colors = list(all_toplot['color'].unique())\n",
    "labels = [color_label[x] for x in all_toplot['color'].unique()]\n",
    "\n",
    "sns.regplot(data = all_toplot, ax = axs[0],\n",
    "            x=x, y=y,scatter_kws={'c':all_toplot['color'], 'color':None, 'alpha':0.5, 'zorder':1},\\\n",
    "            line_kws={'color':'#332288', 'alpha':0.9})\n",
    "\n",
    "index =0\n",
    "for i, grp in all_toplot.groupby(['color']):\n",
    "    grp.plot(kind = 'scatter', x=x, y=y, c=i, ax = axs[0], label = labels[index], zorder=0, alpha = 0.5)\n",
    "    index +=1\n",
    "\n",
    "axs[0].text(-5,5.5, f'p= {p1:.2E}', fontsize = 12)\n",
    "axs[0].text(-5,5, f'$r^2$={r1:.4f}', fontsize=12)\n",
    "axs[0].set(xlabel='Mass(log[Kg])', ylabel= 'Simpson Diversity (log[1/D])')\n",
    "axs[0].set_ylim([0,8])\n",
    "axs[0].set_title('a', loc='left', fontweight='bold', fontsize=14) \n",
    "\n",
    "sns.regplot(data = c_toplot, x=x, y=y, ax = axs[1],\\\n",
    "           scatter_kws={'alpha':0.6, 'color':'#44AA99'}, line_kws={'color':'#332288', 'alpha':0.9})\n",
    "axs[1].set(xlabel='Mass(log[Kg])', ylabel= 'Simpson Diversity (log[1/D])')\n",
    "axs[1].set_ylim([0,3])\n",
    "\n",
    "axs[1].text(-4,2.3, f\"p={p2:.2E}\", fontsize=12)\n",
    "axs[1].text(-4,2.1, f'$r^2$={r2:.4f}', fontsize=12)\n",
    "\n",
    "axs[1].set_title('b', loc='left', fontsize=14, fontweight='bold')\n",
    "\n",
    "\n",
    "axs[0].legend(loc='upper left', fontsize=11)\n",
    "axs[1].legend(['Godon et al. 2016, \\n 16S ssDNA '],loc='upper left', fontsize=11)\n",
    "\n",
    "\n",
    "fig.tight_layout()\n",
    "\n"
   ]
  },
  {
   "cell_type": "code",
   "execution_count": 16,
   "id": "cb3ff300-e26d-4a61-891f-3c6cac791e27",
   "metadata": {},
   "outputs": [],
   "source": [
    "fig.savefig(genpath+'/output/all_animal_guts.pdf')"
   ]
  }
 ],
 "metadata": {
  "kernelspec": {
   "display_name": "Python 3 (ipykernel)",
   "language": "python",
   "name": "python3"
  },
  "language_info": {
   "codemirror_mode": {
    "name": "ipython",
    "version": 3
   },
   "file_extension": ".py",
   "mimetype": "text/x-python",
   "name": "python",
   "nbconvert_exporter": "python",
   "pygments_lexer": "ipython3",
   "version": "3.8.13"
  }
 },
 "nbformat": 4,
 "nbformat_minor": 5
}
