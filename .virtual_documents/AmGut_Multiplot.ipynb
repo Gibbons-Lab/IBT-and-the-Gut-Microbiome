import pandas as pd
import numpy as np
import seaborn as sns 
from statannot import add_stat_annotation
import matplotlib.pyplot as plt
import warnings
warnings.simplefilter('ignore')
import statsmodels.api as sm
import statsmodels.formula.api as smf



# Get cdiff metadata, filter, and merge with cdiff alpha diversity data
metadata = pd.read_csv('.../american_gut/metadata.tsv', sep = '\t', low_memory = False)
cdiff=pd.read_csv('.../american_gut_cohort/simpson/data/alpha-diversity.tsv', sep = '\t')
cdiff=cdiff.rename(columns = {'Unnamed: 0':'sample_name'})
cdiff=pd.merge(metadata, cdiff, on ='sample_name', how = 'left')

#Converting values to numeric
cdiff['height_cm'] = pd.to_numeric(cdiff['height_cm'], errors = 'coerce')
cdiff['weight_kg'] = pd.to_numeric(cdiff['weight_kg'], errors='coerce')
cdiff['age_years'] =  pd.to_numeric(cdiff['age_years'], errors='coerce')

#Filtering to only include adults, feasible heights, and average weights
cdiff=cdiff[cdiff['age_years'] >= 18].rename(columns = {'age_years':'age'})
cdiff=cdiff[(cdiff['height_cm'] <= 244) & (cdiff['height_cm'] >= 122)]
cdiff=cdiff[cdiff['weight_kg']<300]

cdiff=cdiff.reset_index(drop=True)
# # Convert BMF to numeric for regressions
norm_bmf=list()
for i in range(0,len(cdiff)):
    check = cdiff.loc[i,'bowel_movement_frequency']
    if check == 'Less than one':
        norm_bmf.append(1) #put it between one and two to match arivale df
    elif check == 'One':
        norm_bmf.append(2)
    elif check == 'Two':
        norm_bmf.append(2)
    elif check == 'Three':
        norm_bmf.append(3)
    elif check == 'Four':
        norm_bmf.append(4)
    elif check=='Five or more':
        norm_bmf.append(4)
    else:
        norm_bmf.append(float('nan'))
        
cdiff['bowel_movement_frequency']=norm_bmf

# Convert simpson to simpson 1/D
cdiff['simpson']=cdiff['simpson'].apply(lambda x:1/(1-x))

# Convert height from cm to inches so I can calculate the BMI 
cdiff['height_in']=cdiff['height_cm'].apply(lambda x: x/2.54)
cdiff['weight_lb']=cdiff['weight_kg'].apply(lambda x: x*2.205)
cdiff['BMI_CALC']= cdiff['weight_lb']/(cdiff['height_in']**2)*703

# Convert sex info to just M and F
binary_sexes=['female', 'male']
cdiff=cdiff[cdiff['sex'].isin(binary_sexes)]
cdiff['sex']=cdiff['sex'].apply(lambda x: 'F' if x=='female' else 'M')

cdiff.head()


# Define which responses will be a 'yes' or 'no' diagnosis
keep = ['I do not have this condition', \
        'Diagnosed by a medical professional (doctor, physician assistant)']

# just get samples where I know whether they have been diagnosed or not
cdiff = cdiff[cdiff['cdiff'].isin(keep)] 

# Make a new column for yes if diagnosed and no if not
cdiff['diagnosis'] = cdiff['cdiff'].apply(lambda x: 'yes' if x=='Diagnosed by a medical professional (doctor, physician assistant)' 
                                          else 'no')

#Filter (make new df since I'm going to lose samples for vegetable consumption responses
veggies=cdiff.copy()
veggies=veggies[veggies['vegetable_frequency']!= 'Not provided']

# Define high and low vegetable_consumption
veggies['vegetable_consumption'] = veggies.vegetable_frequency.apply(lambda x: 'high' if x =='Daily' else 'low')


veggies.head()


fig, axs = plt.subplots(2,3,figsize=(30,20), tight_layout=True)
sns.set_theme(style='ticks', font_scale=4)

size = 35
params= {'axes.labelsize':size*0.9,
         'axes.titlesize':size, 
         'xtick.labelsize':size*0.9,
         'ytick.labelsize':size*0.9, 
         'axes.titlepad':25, 
         'patch.force_edgecolor': True}

plt.rcParams.update(params)

axs[0,0].set_title('a', loc='left', fontweight='bold', fontsize=size)
axs[0,1].set_title('b', loc='left', fontweight='bold', fontsize=size)
axs[0,2].set_title('c', loc='left', fontweight='bold', fontsize=size)
axs[1,0].set_title('d', loc='left', fontweight='bold', fontsize=size)
axs[1,1].set_title('e', loc='left', fontweight='bold', fontsize=size)
axs[1,2].set_title('f', loc='left', fontweight='bold', fontsize=size)

x = 'diagnosis'
y = 'simpson'

axs[0,0] = sns.boxplot(data = cdiff, x = x, y = y, ax=axs[0,0], palette='rocket_r', boxprops=dict(alpha=0.8))
axs[0,0]=sns.stripplot(data=cdiff, x=x, y=y, ax=axs[0,0], palette='rocket_r', alpha=0.8)

axs[0,0].set(xlabel='$C. difficile$ diagnosis', ylabel='Simpson (1/D)', title='All individuals')
axs[0,0] = add_stat_annotation(
    axs[0,0], data = veggies, x = x, y = y,
    box_pairs = [('yes', 'no')],
    test = 't-test_ind',
    comparisons_correction=None,
    text_format = 'star', 
    loc = 'inside', verbose = 2
)
                         
axs[0,1] = sns.boxplot(data = veggies[veggies['vegetable_consumption']=='low'], x=x, y=y, palette='rocket_r', ax=axs[0,1],boxprops=dict(alpha=0.8))
axs[0,1] = sns.stripplot(data=veggies[veggies['vegetable_consumption']=='low'], x=x, y=y, palette='rocket_r', ax=axs[0,1], alpha = 0.8)

axs[0,1].set(xlabel = '$C. difficile$ diagnosis', ylabel = 'Simpson (1/D)', title='Low vegetable intake')
axs[0,1] = add_stat_annotation(
    ax=axs[0,1], data = veggies[veggies['vegetable_consumption']=='low'], x=x, y=y,
    box_pairs = [('yes', 'no')], 
    test = 't-test_ind',
    comparisons_correction=None,
    text_format = 'star', 
    loc = 'inside', verbose = 2
)

axs[0,2] = sns.boxplot(ax=axs[0,2],data=veggies[veggies['vegetable_consumption']=='high'], x=x, y=y, palette='rocket_r', boxprops=dict(alpha=0.8))
axs[0,2] = sns.stripplot(ax=axs[0,2], data=veggies[veggies['vegetable_consumption']=='high'], x=x, y=y, palette='rocket_r', alpha = 0.8)

axs[0,2].set(xlabel = '$C. difficile$ diagnosis', ylabel = 'Simpson (1/D)', title='High vegetable intake')
axs[0,2]=add_stat_annotation(
    ax=axs[0,2], data=veggies[veggies['vegetable_consumption']=='high'], x=x, y=y,
    box_pairs= [('yes', 'no')], 
    test = 't-test_ind',
    comparisons_correction=None,
    text_format = 'star', 
    loc = 'inside', verbose = 2
)

x = 'diagnosis'
y = 'height_cm'

axs[1,0] = sns.boxplot(data =cdiff, x=x, y=y, ax=axs[1,0], palette='rocket_r', boxprops=dict(alpha=0.8))
axs[1,0] = sns.stripplot(data=cdiff, x=x, y=y, ax=axs[1,0], palette='rocket_r', alpha = 0.8)

axs[1,0].set(xlabel='$C. difficile$ diagnosis', ylabel='Height(cm)', title='All individuals')
axs[1,0] = add_stat_annotation(
    axs[1,0], data = cdiff, x = x, y = y,
    box_pairs = [('yes', 'no')],
    test = 't-test_ind',
    comparisons_correction=None,
    text_format = 'star',
    loc = 'inside', verbose = 2
)
                         
axs[1,1] = sns.boxplot(data = veggies[veggies['vegetable_consumption']=='low'], x=x, y=y, palette='rocket_r', ax=axs[1,1], boxprops=dict(alpha=0.8))
axs[1,1] = sns.stripplot(data=veggies[veggies['vegetable_consumption']=='low'], x=x, y=y, palette='rocket_r', ax=axs[1,1], alpha=0.8)


axs[1,1].set(xlabel = '$C. difficile$ diagnosis', ylabel = 'Height (cm)', title='Low vegetable intake')
axs[1,1] = add_stat_annotation(
    ax=axs[1,1], data = veggies[veggies['vegetable_consumption']=='low'], x=x, y=y,
    box_pairs = [('yes', 'no')], 
    test = 't-test_ind',
    comparisons_correction=None,
    text_format = 'star', 
    loc = 'inside', verbose = 2
)

axs[1,2] = sns.boxplot(ax=axs[1,2],data=veggies[veggies['vegetable_consumption']=='high'], x=x, y=y, palette='rocket_r', boxprops=dict(alpha=0.8))
axs[1,2] = sns.stripplot(ax=axs[1,2], data=veggies[veggies['vegetable_consumption']=='high'], x=x, y=y, palette='rocket_r', alpha=0.8)

axs[1,2].set(xlabel = '$C. difficile$ diagnosis', ylabel = 'Height (cm)', title='High vegetable intake')
axs[1,2]=add_stat_annotation(
    ax=axs[1,2], data=veggies[veggies['vegetable_consumption']=='high'], x=x, y=y,
    box_pairs= [('yes', 'no')], 
    test = 't-test_ind',
    comparisons_correction=None,
    text_format = 'star', 
    loc = 'inside', verbose = 2
)



fig.savefig('.../output/cdiff_boxplots.png', bbox_inches='tight')


# Make new df for regressions
data=veggies.copy()
data=data[['diagnosis', 'height_cm', 'age', 'sex', 'BMI_CALC', 'vegetable_consumption', 'simpson', 'bowel_movement_frequency']].dropna().reset_index(drop=True)

## Standardize data
features=['height_cm', 'age', 'BMI_CALC', 'simpson']
data[features]=data[features].apply(lambda x: (x - x.mean()) / x.std())

# Make CDI history and veggie consumption binomial 
data=data.sort_values(by='vegetable_consumption', ascending=True)
data['has_cdiff']=data['diagnosis'].apply(lambda x: 1 if x=='yes' else 0)
data['high_vegetable_consumption']=data['vegetable_consumption'].apply(lambda x: 1 if x=='high' else 0)
data
data.head()


# Save this df to csv so I can run the mediation analysis on it in R
data.to_csv('.../american_gut_cohort/american_gut_filtered_standardized.csv')


formula='has_cdiff ~ age + C(sex)+ bowel_movement_frequency + BMI_CALC +  height_cm + high_vegetable_consumption'
model=smf.glm(formula=formula, data=data, family=sm.families.Binomial()).fit()
print(model.summary())


formula = 'has_cdiff ~ height_cm'
model=smf.glm(formula=formula, data=data, family=sm.families.Binomial()).fit()
print(model.summary())


formula = 'has_cdiff ~ high_vegetable_consumption'
model=smf.glm(formula=formula, data=data, family=sm.families.Binomial()).fit()
print(model.summary())


formula='has_cdiff ~ age + C(sex)+ bowel_movement_frequency + BMI_CALC +  height_cm'
model=smf.glm(formula=formula, data=data, family=sm.families.Binomial()).fit()
print(model.summary())


formula='has_cdiff ~ age + C(sex)+ bowel_movement_frequency + BMI_CALC +  high_vegetable_consumption'
model=smf.glm(formula=formula, data=data, family=sm.families.Binomial()).fit()
print(model.summary())


formula='has_cdiff ~ age + C(sex)+ bowel_movement_frequency + BMI_CALC + simpson'
model=smf.glm(formula=formula, data=data, family=sm.families.Binomial()).fit()
print(model.summary())


formula='simpson ~ age + C(sex)+ bowel_movement_frequency + BMI_CALC + high_vegetable_consumption'
model=smf.ols(formula=formula, data=data).fit()
print(model.summary())


formula='simpson ~ age + C(sex)+ bowel_movement_frequency + BMI_CALC + height_cm'
model=smf.ols(formula=formula, data=data).fit()
print(model.summary())
