import pandas as pd
import qiime2 as q2


asvs = pd.read_csv("/proj/arivale/microbiome/16S_processed/asvs.csv")
asvs.head()


# convert asvs to wide format
asvs_wide = asvs.pivot_table(index="id", columns="hash", values="count", fill_value=0, aggfunc="sum")
asvs_wide.head()


#confirm number of reads per sample was conserved
all(asvs_wide.sum(axis=1) == asvs.groupby("id")["count"].sum())


import qiime2 as q2

table = q2.Artifact.import_data("FeatureTable[Frequency]", asvs_wide)
table


table.save("/proj/gibbons/kramos/emergence_trials/to_publish/arivale_cohort/arivale_table.qza")


# From the feature table, I need to visualize the data so I can rarefy to the minimum 
! qiime feature-table summarize \
    --i-table /proj/gibbons/kramos/emergence_trials/to_publish/arivale_cohort/arivale_table.qza \
    --o-visualization /proj/gibbons/kramos/emergence_trials/to_publish/arivale_cohort/summary.qzv



# rarefy the table 13700, which is rouhgly the sample minimum
! qiime feature-table rarefy --i-table /proj/gibbons/kramos/emergence_trials/to_publish/arivale_cohort/arivale_table.qza \
    --p-sampling-depth 13703 \
    --o-rarefied-table /proj/gibbons/kramos/emergence_trials/to_publish/arivale_cohort/rare13703_table.qza



# Get simpson diversity
! qiime diversity alpha \
--i-table /proj/gibbons/kramos/emergence_trials/to_publish/arivale_cohort/rare13703_table.qza \
--p-metric simpson \
--o-alpha-diversity /proj/gibbons/kramos/emergence_trials/to_publish/arivale_cohort/simpson_diversity.qza


# In the command line, unzip the simpson_diversity.qza file so we can read in the tsv
simpson = pd.read_csv('/proj/gibbons/kramos/emergence_trials/to_publish/arivale_cohort/simpson/data/alpha-diversity.tsv', sep = '\t')
simpson.head()



# Save the location of the biom file
american_gut = '/proj/gibbons/american_gut/deblur_125nt_no_blooms.biom/'


table = q2.Artifact.import_data("FeatureTable[Frequency]", american_gut)
table


table.save("/proj/gibbons/kramos/emergence_trials/to_publish/american_gut_cohort/table.qza")


# From the feature table, I need to visualize the data so I can rarefy to the minimum 
! qiime feature-table summarize \
    --i-table /proj/gibbons/kramos/emergence_trials/to_publish/american_gut_cohort/table.qza \
    --o-visualization /proj/gibbons/kramos/emergence_trials/to_publish/american_gut_cohort/summary.qzv


# rarefy the table 1250
! qiime feature-table rarefy \
    --i-table /proj/gibbons/kramos/emergence_trials/to_publish/american_gut_cohort/table.qza \
    --p-sampling-depth 1250 \
    --o-rarefied-table /proj/gibbons/kramos/emergence_trials/to_publish/american_gut_cohort/rare1250_amgut_table.qza




! qiime diversity alpha \
    --i-table /proj/gibbons/kramos/emergence_trials/to_publish/american_gut_cohort/rare1250_amgut_table.qza \
    --p-metric simpson \
    --o-alpha-diversity /proj/gibbons/kramos/emergence_trials/to_publish/american_gut_cohort/simpson.qza


# In the command line, unzip the simpson.qza so we can read in the tsv and take a look at it
simpson = pd.read_csv('/proj/gibbons/kramos/emergence_trials/to_publish/american_gut_cohort/simpson/data/alpha-diversity.tsv', sep = '\t')
simpson.head()
                      
