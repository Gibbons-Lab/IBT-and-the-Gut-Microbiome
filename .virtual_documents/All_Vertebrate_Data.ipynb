import pandas as pd
import numpy as np
import matplotlib.pyplot as plt
get_ipython().run_line_magic("matplotlib", " inline")
import warnings
warnings.simplefilter('ignore')
import seaborn as sns
from rich.progress import track
from statsmodels.formula.api import ols



crystals= pd.read_excel('.../Godon_data/Animal_Gut_Table_1.xlsx').rename(columns = {'Body mass (kg)':'body_mass_kg', 'Diversity':'inv_simpson'})
crystals.head()



# We generated this CSV in the vertebrate diversity notebook
all_16S = pd.read_csv('.../output/Song_Groussin_Diversity.csv')
all_16S.head()


# Add color column so I can assign them when I plot
all_16S['color'] = all_16S.dataset.apply(lambda x: '#AA4499' if x == 'Groussin et al' else '#88CCEE')
all_16S.head()


all_toplot = all_16S[['SampleID', 'inv_simpson', 'body_mass_kg', 'color', 'dataset']].copy()
features = ['inv_simpson', 'body_mass_kg']
all_toplot[features] = all_toplot[features].apply(lambda x: np.log(x))

# Drop rows with no data
all_toplot = all_toplot.dropna()
all_toplot.head()


c_toplot = crystals[['Name (common name)', 'body_mass_kg', 'inv_simpson']].copy()
features = ['body_mass_kg', 'inv_simpson']
c_toplot[features] = c_toplot[features].apply(lambda x: np.log(x))

# Drop rows with no data
c_toplot = c_toplot.dropna()
c_toplot.head()


def get_results(feature):
    formula = f"{feature} ~ body_mass_kg"
    fitted = ols(formula, data=df).fit()
    return pd.DataFrame({
        "feature": feature,
        "beta": fitted.params["body_mass_kg"],
        "t_statistic": fitted.tvalues["body_mass_kg"],
        "p": fitted.pvalues["body_mass_kg"],
        "n": fitted.nobs, 
        "rsquared":fitted.rsquared
        }, index=[feature])

args = ['inv_simpson']
df = all_toplot
results = map(get_results, track(args))
results = list(results)
tests = pd.concat(results)
tests


# Save p and r squared for later 
p1 = tests.iloc[0,3]
r1 = tests.iloc[0,5]
print(p1, r1)


df = c_toplot
results = map(get_results, track(args))
results = list(results)
tests = pd.concat(results)

tests


# save p and r squared for later
p2 = tests.iloc[0,3]
r2 = tests.iloc[0,5]

print(p2, r2)


all_16S.head()


all_toplot.head()


c_toplot.head()


sns.set_theme(style='whitegrid',font_scale=1.2)
fig, axs = plt.subplots(1,2, figsize = (10,5))

x='body_mass_kg'
y= 'inv_simpson'

color_label = {'#88CCEE':'Groussin et al. 2017,\n 16S amplicon seq', '#AA4499':'Song et al. 2020,\n 16S amplicon seq'}
colors = list(all_toplot['color'].unique())
labels = [color_label[x] for x in all_toplot['color'].unique()]

sns.regplot(data = all_toplot, ax = axs[0],
            x=x, y=y,scatter_kws={'c':all_toplot['color'], 'color':None, 'alpha':0.5, 'zorder':1},\
            line_kws={'color':'#332288', 'alpha':0.9})

index =0
for i, grp in all_toplot.groupby(['color']):
    grp.plot(kind = 'scatter', x=x, y=y, c=i, ax = axs[0], label = labels[index], zorder=0, alpha = 0.5)
    index +=1

axs[0].text(-5,5.5, f'p= {p1:.2E}', fontsize = 12)
axs[0].text(-5,5, f'$r^2$={r1:.4f}', fontsize=12)
axs[0].set(xlabel='Mass(log[Kg])', ylabel= 'Simpson Diversity (log[1/D])')
axs[0].set_ylim([0,8])
axs[0].set_title('a', loc='left', fontweight='bold', fontsize=14) 

sns.regplot(data = c_toplot, x=x, y=y, ax = axs[1],\
           scatter_kws={'alpha':0.6, 'color':'#44AA99'}, line_kws={'color':'#332288', 'alpha':0.9})
axs[1].set(xlabel='Mass(log[Kg])', ylabel= 'Simpson Diversity (log[1/D])')
axs[1].set_ylim([0,3])

axs[1].text(-4,2.3, f"p={p2:.2E}", fontsize=12)
axs[1].text(-4,2.1, f'$r^2$={r2:.4f}', fontsize=12)

axs[1].set_title('b', loc='left', fontsize=14, fontweight='bold')


axs[0].legend(loc='upper left', fontsize=11)
axs[1].legend(['Godon et al. 2016, \n 16S ssDNA '],loc='upper left', fontsize=11)


fig.tight_layout()




fig.savefig('.../output/all_animal_guts.png')
