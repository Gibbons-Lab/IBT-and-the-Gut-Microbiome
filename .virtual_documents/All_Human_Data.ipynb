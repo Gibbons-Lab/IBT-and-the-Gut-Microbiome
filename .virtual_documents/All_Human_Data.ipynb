import pandas as pd
import numpy as np
import seaborn as sns 
import matplotlib.pyplot as plt
from statannot import add_stat_annotation
import matplotlib
import warnings
warnings.simplefilter('ignore')
from arivale_data_interface import *
frozen_ss_path='.../arivale_snapshot_ISB_2020-03-16_2156'
sn=list_snapshot_contents() #list all content
def get_frozen_snapshot(ss_name, ss_path=frozen_ss_path): #collect data
    return get_snapshot(ss_name, path=ss_path)
from statsmodels.stats.anova import anova_lm
import statsmodels.formula.api as smf


# Get amgut metadata, filter, and merge with amgut data
metadata = pd.read_csv('.../american_gut_cohort/american_gut/metadata.tsv', sep = '\t', low_memory = False)[['sample_name','sex','height_cm', 'age_years', 'weight_kg', 'bowel_movement_frequency']]

amgut=pd.read_csv('.../american_gut_cohort/simpson/data/alpha-diversity.tsv', sep = '\t')
amgut=amgut.rename(columns = {'Unnamed: 0':'sample_name'})
amgut=pd.merge(metadata, amgut, on ='sample_name')

#Converting values to numeric
amgut['height_cm'] = pd.to_numeric(amgut['height_cm'], errors = 'coerce')
amgut['weight_kg'] = pd.to_numeric(amgut['weight_kg'], errors='coerce')
amgut['age_years'] =  pd.to_numeric(amgut['age_years'], errors='coerce')

#Filter
amgut=amgut[amgut['age_years'] >= 18].rename(columns = {'age_years':'age'})
amgut=amgut[(amgut['height_cm'] <= 244) & (amgut['height_cm'] >= 122)]
amgut=amgut[amgut['weight_kg']<300]

# # Convert BMF to numeric for regressions
norm_bmf=list()
for i in range(0,len(amgut)):
    check = amgut.iloc[i,5]
    if check == 'Less than one':
        norm_bmf.append(1)
    elif check == 'One':
        norm_bmf.append(2)
    elif check == 'Two':
        norm_bmf.append(3)
    elif check == 'Three':
        norm_bmf.append(4)
    elif check == 'Four':
        norm_bmf.append(5)
    elif check=='Five or more':
        norm_bmf.append(6)
    else:
        norm_bmf.append(float('nan'))
        
amgut['bowel_movement_frequency']=norm_bmf

# Convert simpson to simpson 1/D
amgut['simpson']=amgut['simpson'].apply(lambda x:1/(1-x))

# Convert height from cm to inches so I can calculate the BMI 
amgut['height_in']=amgut['height_cm'].apply(lambda x: x/2.54)
amgut['weight_lb']=amgut['weight_kg'].apply(lambda x: x*2.205)
amgut['BMI_CALC']= amgut['weight_lb']/(amgut['height_in']**2)*703

# Convert sex info to binomial M and F
sexes=['female', 'male']
amgut=amgut[amgut['sex'].isin(sexes)]
amgut['sex']=amgut['sex'].apply(lambda x: 'F' if x=='female' else 'M')

amgut.head()


arivale=pd.read_csv('.../arivale_cohort/simpson/data/alpha-diversity.tsv', sep = '\t').rename(columns={'Unnamed: 0':'id'})

# Get sample metadata and merge
metadata = pd.read_csv('.../metadata.csv')[['public_client_id', 'id', 'days_in_program','sex', 'age']]\
                        .rename(columns = {'public_client_id':'sample_id'})

arivale = pd.merge(arivale, metadata, on = 'id')

# Get weight data and merge
weights = get_frozen_snapshot('weight')[['public_client_id', 'days_in_program', 'BMI_CALC', 'HEIGHT_CALC']]\
                     .dropna().rename(columns = {'public_client_id':'sample_id'})

arivale = pd.merge_asof(
    arivale[arivale.sample_id.isin(weights.sample_id)].sort_values(by='days_in_program'),
    weights.sort_values(by='days_in_program'), 
    by = 'sample_id', on = 'days_in_program', direction='nearest')

# convert simpson to simpson 1/D
arivale['simpson'] = arivale['simpson'].apply(lambda x: 1/(1-x))

# convert height from in to cm 
arivale['height_cm']=arivale['HEIGHT_CALC'].apply(lambda x: x*2.54)

# Finally, I need bowel movement frequency 
digestion = get_frozen_snapshot('assessments_digestive_health')[['public_client_id', 'days_in_program', 'assessment:digestion:bowel-movements:enum']].dropna().rename(columns = {'public_client_id':'sample_id'})

# Get the bowel movement number 
digestion['bowel_movement_frequency'] = digestion['assessment:digestion:bowel-movements:enum'].astype(str).apply(lambda x: x[1])
digestion['bowel_movement_frequency'] = digestion['bowel_movement_frequency'].astype(int)

arivale = pd.merge_asof(
    arivale[arivale.sample_id.isin(arivale.sample_id)].sort_values(by='days_in_program'),
    digestion.sort_values(by='days_in_program'),
    by='sample_id', on='days_in_program', direction='nearest')

arivale.head()


# Drop duplicate data
arivale=arivale.sort_values(by='days_in_program').drop_duplicates(subset='sample_id', keep='first')
amgut=amgut.drop_duplicates(subset='sample_name', keep='first')


# Log transform Simpson's Diversity and height
features = ['simpson', 'height_cm']
arivale[features] = arivale[features].apply(lambda x: np.log(x))
amgut[features] = amgut[features].apply(lambda x: np.log(x))



amgut[['sex', 'age', 'BMI_CALC', 'bowel_movement_frequency', 'height_cm', 'simpson']].describe()


arivale[['sex', 'age', 'BMI_CALC', 'bowel_movement_frequency', 'height_cm', 'simpson']].describe()


amgut=amgut[['age', 'sex', 'BMI_CALC', 'bowel_movement_frequency', 'height_cm', 'simpson']].dropna()
arivale=arivale[['age', 'sex', 'BMI_CALC', 'bowel_movement_frequency', 'height_cm', 'simpson']].dropna()


from rich.progress import track
from statsmodels.formula.api import ols
from statsmodels.stats.multitest import multipletests

def get_results(feature):
    """Get a single association.
    
    As long as `args` and `df` are assigned this can be used on
    any data set.
    """
    formula = f"{feature} ~ C(sex) + age + BMI_CALC + bowel_movement_frequency + height_cm"
    fitted = ols(formula, data=df).fit()
    return pd.DataFrame({
        "feature": feature,
        "beta": fitted.params["height_cm"],
        "t_statistic": fitted.tvalues["height_cm"],
        "p": fitted.pvalues["height_cm"],
        "n": fitted.nobs, 
        'fvalue':fitted.fvalue, 
        'f_pvalue':fitted.f_pvalue,
        'rsquared': fitted.rsquared
        }, index=[feature])


args=['simpson']

# Do amgut regressions
df=amgut
results = map(get_results, track(args))
results = list(results)
tests = pd.concat(results)

amgut_tests=tests
amgut_tests['cohort']='american_gut'
amgut_tests['covariates']='age, sex, BMI, BMF'
# Do arivale regressions 
df=arivale
results = map(get_results, track(args))
results = list(results)
tests = pd.concat(results)

arivale_tests=tests
arivale_tests['cohort']='arivale'
arivale_tests['covariates']='age, sex, BMI, BMF'

# Combine for one df 
human_tests=pd.concat([arivale_tests, amgut_tests])


human_tests=human_tests.set_index('cohort')
human_tests


arivale_full=smf.ols(formula='simpson~ C(sex) + age + BMI_CALC + bowel_movement_frequency + height_cm', data=arivale).fit()
amgut_full=smf.ols(formula='simpson~ C(sex) + age + BMI_CALC + bowel_movement_frequency + height_cm', data=amgut).fit()

arivale_reduced=smf.ols(formula = 'simpson ~ age + C(sex) + BMI_CALC + bowel_movement_frequency', data=arivale).fit()
amgut_reduced=smf.ols(formula = 'simpson ~ age + C(sex) + BMI_CALC + bowel_movement_frequency', data=amgut).fit()

F_amgut=anova_lm(amgut_reduced, amgut_full)
F_arivale=anova_lm(arivale_reduced, arivale_full)



arivale_rsq = human_tests.loc['arivale', 'rsquared']
amgut_rsq=human_tests.loc['american_gut', 'rsquared']

arivale_p=F_arivale.loc[1,'Pr(>F)']
amgut_p=F_amgut.loc[1,'Pr(>F)']

print(arivale_p, amgut_p)


amgut=amgut[['age', 'sex', 'BMI_CALC', 'bowel_movement_frequency', 'height_cm', 'simpson']].dropna()
arivale=arivale[['age', 'sex', 'BMI_CALC', 'bowel_movement_frequency', 'height_cm', 'simpson']].dropna()


fig, axs = plt.subplots(1,2, figsize=(10,5), tight_layout=True)
sns.set_theme(style='whitegrid',font_scale=1.2)

x = 'height_cm'
y = 'simpson'

sns.regplot(data=arivale, ax=axs[0], x=x, y=y, \
            scatter_kws={'alpha':0.4, 'color':'#44AA99'}, \
            line_kws={'color':'#882255','alpha':0.75})

sns.regplot(data=amgut, ax=axs[1], x=x, y=y,\
            scatter_kws={'alpha':0.4, 'color':'#44AA99'},\
            line_kws={'color':'#882255', 'alpha':0.75})


axs[0].set(xlabel='Height(log[cm])',ylabel='Simpson(log[1/D])', yticks=[1,2,3,4,5])
axs[0].text(4.91,1.2, f'p={arivale_p:.2E}', fontsize=12)
axs[0].text(4.91,1.4,f'$r^2$={arivale_rsq:.4f}', fontsize=12)
# axs[0].text(4.85, 5.15, 'a', fontsize=14, fontweight='bold')
axs[0].set_title('a', loc='left', fontsize=14, fontweight='bold')

axs[1].set(xlabel='Height(log[cm])', ylabel='Simpson(log[1/D])')
axs[1].text(4.85,0.05, f'p={amgut_p:.2E}', fontsize=12)
axs[1].text(4.85,0.25,f'$r^2$={amgut_rsq:.4f}', fontsize=12)
# axs[1].text(4.75,4.6, 'b', fontsize=14, fontweight='bold')
axs[1].set_title('b', loc='left', fontsize=14, fontweight='bold')




fig.savefig('.../output/all_human_cohort_diversity.png')


# Normalize prior to running regressions because BMF is not on the same scale in each cohort
features=['age', 'BMI_CALC', 'bowel_movement_frequency', 'height_cm', 'simpson']
amgut[features]=amgut[features].apply(lambda x: (x - x.mean()) / x.std())
arivale[features]=arivale[features].apply(lambda x: (x-x.mean()) / x.std())

#### Generate a dict that has formulas and its covariates ####
covars = ['C(sex)', 'age', 'BMI_CALC', 'bowel_movement_frequency', 'height_cm']
d_formula=dict()
d_formula[0] = {
    'formula':'simpson ~ age + C(sex) + BMI_CALC + bowel_movement_frequency + height_cm',
    'excluded':'none',
    'covariates':list(map(lambda x: x.replace('C(sex)', 'C(sex)[T.M]'), covars))}

d_formula[1] = {
    'formula':'simpson ~ height_cm',
    'excluded':'all but height',
    'covariates':float('NaN')}

for i in range(0,len(covars)):
    excluded=covars[i]
    temp_covars=[i for i in covars if i != excluded]
    formula=' + '.join(temp_covars)
    formula = 'simpson ~ '+formula
    temp_covars=list(map(lambda x: x.replace('C(sex)', 'C(sex)[T.M]'),temp_covars))
    
    d_formula[i+2] = {
        'formula':formula,
        'excluded':excluded,
        'covariates':temp_covars}

d_formula


def find_covar_rsq(dataframe, f_dict):
    big_squared=pd.DataFrame()
    
    for i in range(0, len(f_dict)): # for every formula combination in my dictionary 
        if i==0: # first entry in the dict is the full formula 
            results = smf.ols(formula=f_dict[i]['formula'], data=dataframe).fit() 
            ref_r=results.rsquared # this is going to be used to derive r_squared of indiviudal covariates
            betas=pd.DataFrame(results.params).reset_index().rename(columns={'index':'covar', 0:'Beta'}) # get beta coefficients
            betas['formula']=f_dict[i]['formula'] # record the formula used
            betas['rsquared_model']=results.rsquared # get the rsquared of the model 
            ps = pd.DataFrame(results.pvalues.loc[f_dict[i]['covariates']]).reset_index().rename(columns={0:'p_covar', 'index':'covar'}) # get pvalues for each covar
            betas=pd.merge(betas, ps, on = 'covar') #merge ps with beta coefficients for each covar
            
            ### F-test to compare model with and without height as a covar
            model_reduced = smf.ols(formula = 'simpson ~ age + C(sex) + BMI_CALC + bowel_movement_frequency', data=dataframe).fit()
            F_test = anova_lm(model_reduced, results)
            betas['F']=F_test.loc[1,'F']
            betas['F_pval']=F_test.loc[1,'Pr(>F)']

        
        elif i==1: # the second entry in my dict is just simpson vs height
            # like before, get beta coefficient and r^2 values
            results=smf.ols(formula=f_dict[i]['formula'], data=dataframe).fit()
            temp=pd.DataFrame(results.params).reset_index().rename(columns={'index':'covar', 0:'Beta'})
            temp['formula']=f_dict[i]['formula']
            temp['rsquared_model']=results.rsquared
            temp['p_covar']=results.pvalues['height_cm']
            
            F_test = anova_lm(results)
            temp['F']=F_test.loc['height_cm','F']
            temp['F_pval']=F_test.loc['height_cm','PR(>F)']
            betas=pd.concat([betas, temp])
        
        else: # for every other formula, we excluded one covar so we can derive the r^2 for indiviudal covars
            results = smf.ols(formula=f_dict[i]['formula'], data=dataframe).fit() #ols with the formula[i]
            squared_df=pd.DataFrame(columns=['covar', 'rsquared_covar', 'formula', 'rsquared_model'])
            squared_df.loc[i,'covar']=f_dict[i]['excluded'] # the excluded covar is the one we are getting an r^2 value for
            squared_df.loc[i,'rsquared_covar']=ref_r-results.rsquared
            squared_df.loc[i,'formula']=f_dict[i]['formula']
            squared_df.loc[i,'rsquared_model']=ref_r
            big_squared=pd.concat([big_squared, squared_df])
    
    #Now we have everything we need to make one big df with my regression info 
    big_squared.loc[2,'covar']='C(sex)[T.M]' #so I can merge my dfs on covars
    complete=pd.merge(big_squared[['covar', 'rsquared_covar', 'rsquared_model']], \
                      betas[['covar', 'Beta', 'formula', 'rsquared_model', 'p_covar', 'F', 'F_pval']], \
                      on=['covar', 'rsquared_model'], how='right')
    return(complete, F_test)

arivale_results, arivale_F= find_covar_rsq(arivale, d_formula)
amgut_results, amgut_F = find_covar_rsq(amgut, d_formula)


arivale_results['cohort']='Arivale' # add cohort info so I can merge results
amgut_results['cohort']='American Gut'

complete=pd.concat([arivale_results, amgut_results])
complete=complete[complete['covar']!='Intercept'] # I don't want the intercept
complete=complete[['cohort','covar', 'rsquared_covar', 'p_covar', 'Beta', 'formula', 'rsquared_model', 'F', 'F_pval']]



complete


# Save to csv so I can make an excel table with it
complete.to_csv('.../output/regression_results.csv')
